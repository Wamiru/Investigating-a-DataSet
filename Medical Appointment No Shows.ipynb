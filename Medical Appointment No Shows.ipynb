{
 "cells": [
  {
   "cell_type": "markdown",
   "id": "09d34d78",
   "metadata": {},
   "source": [
    "# Project: Medical Appointments No Shows Analysis\n",
    "\n",
    "## Table of Contents\n",
    "<ul>\n",
    "<li><a href=\"#intro\">Introduction</a></li>\n",
    "<li><a href=\"#wrangling\">Data Wrangling</a></li>\n",
    "<li><a href=\"#eda\">Exploratory Data Analysis</a></li>\n",
    "<li><a href=\"#conclusions\">Conclusions</a></li>\n",
    "</ul>\n",
    "\n",
    "<a id='intro'></a>\n",
    "## Introduction\n",
    "This dataset has information on 110.527 medical appointments in Brazil. The main focus is to know whether certain features play a part in patients showing up for appointments or not.\n",
    "Below are the features of this dataset:\n",
    "\n",
    "**PatientId** indicates the id that identifies each patient.\n",
    "\n",
    "**AppointmentID** indicates the id that identifies each appointment.\n",
    "\n",
    "**Gender** indicates the patient's gender (Female 'F' or Male 'M').\n",
    "\n",
    "**ScheduledDay** tells us on what day the patient set up their appointment.\n",
    "\n",
    "**AppointmentDay** when will the appointment take place.\n",
    "\n",
    "**Age** tells how old is the patient.\n",
    "\n",
    "**Neighborhood** indicates the location of the hospital.\n",
    "\n",
    "**Scholarship** indicates whether or not the patient is enrolled in Brasilian welfare program Bolsa Família.\n",
    "\n",
    "**Hipertension** the patient has hipertension or not.\n",
    "\n",
    "**Diabetes** the patient is with diabetes or not.\n",
    "\n",
    "**Alcoholism** the patient consumes alcohol or not.\n",
    "\n",
    "**Handcap** the patient is handicapped or not and the number of disabillities the have.\n",
    "\n",
    "**SMS_received** the patient received a SMS or not.\n",
    "\n",
    "**No-show** Be careful about the encoding of the last column: it says ‘No’ if the patient showed up to their appointment, and ‘Yes’ if they did not show up.\n",
    "\n",
    "Checking the data in this dataset, checking the features to see which I will use in my analysis and which I may end up dropping\n",
    "\n",
    "The questions, I would like to explore are:\n",
    "1. Does the waiting period play a part in a patient showing up?\n",
    "2. Does gender play a part on whether a patient shows up?\n",
    "3. Does sending an SMS to patients increase the chances of them showing up?\n",
    "4. Does having a scholarship affect whether a patient shows up?"
   ]
  },
  {
   "cell_type": "code",
   "execution_count": 1,
   "id": "b8edca48",
   "metadata": {},
   "outputs": [],
   "source": [
    "#Loading packages used \n",
    "import pandas as pd\n",
    "import numpy as np\n",
    "import matplotlib.pyplot as plt\n",
    "import seaborn as sns\n",
    "%matplotlib inline"
   ]
  },
  {
   "cell_type": "markdown",
   "id": "544934bd",
   "metadata": {},
   "source": [
    "<a id='wrangling'></a>\n",
    "## Data Wrangling\n",
    "### General Properties"
   ]
  },
  {
   "cell_type": "code",
   "execution_count": 2,
   "id": "f49584d2",
   "metadata": {},
   "outputs": [
    {
     "data": {
      "text/html": [
       "<div>\n",
       "<style scoped>\n",
       "    .dataframe tbody tr th:only-of-type {\n",
       "        vertical-align: middle;\n",
       "    }\n",
       "\n",
       "    .dataframe tbody tr th {\n",
       "        vertical-align: top;\n",
       "    }\n",
       "\n",
       "    .dataframe thead th {\n",
       "        text-align: right;\n",
       "    }\n",
       "</style>\n",
       "<table border=\"1\" class=\"dataframe\">\n",
       "  <thead>\n",
       "    <tr style=\"text-align: right;\">\n",
       "      <th></th>\n",
       "      <th>PatientId</th>\n",
       "      <th>AppointmentID</th>\n",
       "      <th>Gender</th>\n",
       "      <th>ScheduledDay</th>\n",
       "      <th>AppointmentDay</th>\n",
       "      <th>Age</th>\n",
       "      <th>Neighbourhood</th>\n",
       "      <th>Scholarship</th>\n",
       "      <th>Hipertension</th>\n",
       "      <th>Diabetes</th>\n",
       "      <th>Alcoholism</th>\n",
       "      <th>Handcap</th>\n",
       "      <th>SMS_received</th>\n",
       "      <th>No-show</th>\n",
       "    </tr>\n",
       "  </thead>\n",
       "  <tbody>\n",
       "    <tr>\n",
       "      <th>0</th>\n",
       "      <td>29872499824296</td>\n",
       "      <td>5642903</td>\n",
       "      <td>F</td>\n",
       "      <td>2016-04-29T18:38:08Z</td>\n",
       "      <td>2016-04-29T00:00:00Z</td>\n",
       "      <td>62</td>\n",
       "      <td>JARDIM DA PENHA</td>\n",
       "      <td>0</td>\n",
       "      <td>1</td>\n",
       "      <td>0</td>\n",
       "      <td>0</td>\n",
       "      <td>0</td>\n",
       "      <td>0</td>\n",
       "      <td>No</td>\n",
       "    </tr>\n",
       "    <tr>\n",
       "      <th>1</th>\n",
       "      <td>558997776694438</td>\n",
       "      <td>5642503</td>\n",
       "      <td>M</td>\n",
       "      <td>2016-04-29T16:08:27Z</td>\n",
       "      <td>2016-04-29T00:00:00Z</td>\n",
       "      <td>56</td>\n",
       "      <td>JARDIM DA PENHA</td>\n",
       "      <td>0</td>\n",
       "      <td>0</td>\n",
       "      <td>0</td>\n",
       "      <td>0</td>\n",
       "      <td>0</td>\n",
       "      <td>0</td>\n",
       "      <td>No</td>\n",
       "    </tr>\n",
       "    <tr>\n",
       "      <th>2</th>\n",
       "      <td>4262962299951</td>\n",
       "      <td>5642549</td>\n",
       "      <td>F</td>\n",
       "      <td>2016-04-29T16:19:04Z</td>\n",
       "      <td>2016-04-29T00:00:00Z</td>\n",
       "      <td>62</td>\n",
       "      <td>MATA DA PRAIA</td>\n",
       "      <td>0</td>\n",
       "      <td>0</td>\n",
       "      <td>0</td>\n",
       "      <td>0</td>\n",
       "      <td>0</td>\n",
       "      <td>0</td>\n",
       "      <td>No</td>\n",
       "    </tr>\n",
       "    <tr>\n",
       "      <th>3</th>\n",
       "      <td>867951213174</td>\n",
       "      <td>5642828</td>\n",
       "      <td>F</td>\n",
       "      <td>2016-04-29T17:29:31Z</td>\n",
       "      <td>2016-04-29T00:00:00Z</td>\n",
       "      <td>8</td>\n",
       "      <td>PONTAL DE CAMBURI</td>\n",
       "      <td>0</td>\n",
       "      <td>0</td>\n",
       "      <td>0</td>\n",
       "      <td>0</td>\n",
       "      <td>0</td>\n",
       "      <td>0</td>\n",
       "      <td>No</td>\n",
       "    </tr>\n",
       "    <tr>\n",
       "      <th>4</th>\n",
       "      <td>8841186448183</td>\n",
       "      <td>5642494</td>\n",
       "      <td>F</td>\n",
       "      <td>2016-04-29T16:07:23Z</td>\n",
       "      <td>2016-04-29T00:00:00Z</td>\n",
       "      <td>56</td>\n",
       "      <td>JARDIM DA PENHA</td>\n",
       "      <td>0</td>\n",
       "      <td>1</td>\n",
       "      <td>1</td>\n",
       "      <td>0</td>\n",
       "      <td>0</td>\n",
       "      <td>0</td>\n",
       "      <td>No</td>\n",
       "    </tr>\n",
       "  </tbody>\n",
       "</table>\n",
       "</div>"
      ],
      "text/plain": [
       "         PatientId  AppointmentID Gender          ScheduledDay  \\\n",
       "0   29872499824296        5642903      F  2016-04-29T18:38:08Z   \n",
       "1  558997776694438        5642503      M  2016-04-29T16:08:27Z   \n",
       "2    4262962299951        5642549      F  2016-04-29T16:19:04Z   \n",
       "3     867951213174        5642828      F  2016-04-29T17:29:31Z   \n",
       "4    8841186448183        5642494      F  2016-04-29T16:07:23Z   \n",
       "\n",
       "         AppointmentDay  Age      Neighbourhood  Scholarship  Hipertension  \\\n",
       "0  2016-04-29T00:00:00Z   62    JARDIM DA PENHA            0             1   \n",
       "1  2016-04-29T00:00:00Z   56    JARDIM DA PENHA            0             0   \n",
       "2  2016-04-29T00:00:00Z   62      MATA DA PRAIA            0             0   \n",
       "3  2016-04-29T00:00:00Z    8  PONTAL DE CAMBURI            0             0   \n",
       "4  2016-04-29T00:00:00Z   56    JARDIM DA PENHA            0             1   \n",
       "\n",
       "   Diabetes  Alcoholism  Handcap  SMS_received No-show  \n",
       "0         0           0        0             0      No  \n",
       "1         0           0        0             0      No  \n",
       "2         0           0        0             0      No  \n",
       "3         0           0        0             0      No  \n",
       "4         1           0        0             0      No  "
      ]
     },
     "execution_count": 2,
     "metadata": {},
     "output_type": "execute_result"
    }
   ],
   "source": [
    "df = pd.read_csv('noshowappointments-kagglev2-may-2016.csv')\n",
    "df.head()"
   ]
  },
  {
   "cell_type": "markdown",
   "id": "1cfd6ca5",
   "metadata": {},
   "source": [
    "The column names seem to be good enough to work with in my analysis. Can be better so I will rename them for uniformity."
   ]
  },
  {
   "cell_type": "code",
   "execution_count": 3,
   "id": "51bd1b40",
   "metadata": {},
   "outputs": [
    {
     "name": "stdout",
     "output_type": "stream",
     "text": [
      "<class 'pandas.core.frame.DataFrame'>\n",
      "RangeIndex: 110527 entries, 0 to 110526\n",
      "Data columns (total 14 columns):\n",
      " #   Column          Non-Null Count   Dtype \n",
      "---  ------          --------------   ----- \n",
      " 0   PatientId       110527 non-null  int64 \n",
      " 1   AppointmentID   110527 non-null  int64 \n",
      " 2   Gender          110527 non-null  object\n",
      " 3   ScheduledDay    110527 non-null  object\n",
      " 4   AppointmentDay  110527 non-null  object\n",
      " 5   Age             110527 non-null  int64 \n",
      " 6   Neighbourhood   110527 non-null  object\n",
      " 7   Scholarship     110527 non-null  int64 \n",
      " 8   Hipertension    110527 non-null  int64 \n",
      " 9   Diabetes        110527 non-null  int64 \n",
      " 10  Alcoholism      110527 non-null  int64 \n",
      " 11  Handcap         110527 non-null  int64 \n",
      " 12  SMS_received    110527 non-null  int64 \n",
      " 13  No-show         110527 non-null  object\n",
      "dtypes: int64(9), object(5)\n",
      "memory usage: 11.8+ MB\n"
     ]
    }
   ],
   "source": [
    "df.info()"
   ]
  },
  {
   "cell_type": "markdown",
   "id": "5a0e5581",
   "metadata": {},
   "source": [
    "ScheduledDay and AppointmentDay datatypes are object but should be datetime."
   ]
  },
  {
   "cell_type": "code",
   "execution_count": 4,
   "id": "6f8bdfcc",
   "metadata": {},
   "outputs": [
    {
     "data": {
      "text/html": [
       "<div>\n",
       "<style scoped>\n",
       "    .dataframe tbody tr th:only-of-type {\n",
       "        vertical-align: middle;\n",
       "    }\n",
       "\n",
       "    .dataframe tbody tr th {\n",
       "        vertical-align: top;\n",
       "    }\n",
       "\n",
       "    .dataframe thead th {\n",
       "        text-align: right;\n",
       "    }\n",
       "</style>\n",
       "<table border=\"1\" class=\"dataframe\">\n",
       "  <thead>\n",
       "    <tr style=\"text-align: right;\">\n",
       "      <th></th>\n",
       "      <th>PatientId</th>\n",
       "      <th>AppointmentID</th>\n",
       "      <th>Age</th>\n",
       "      <th>Scholarship</th>\n",
       "      <th>Hipertension</th>\n",
       "      <th>Diabetes</th>\n",
       "      <th>Alcoholism</th>\n",
       "      <th>Handcap</th>\n",
       "      <th>SMS_received</th>\n",
       "    </tr>\n",
       "  </thead>\n",
       "  <tbody>\n",
       "    <tr>\n",
       "      <th>count</th>\n",
       "      <td>1.105270e+05</td>\n",
       "      <td>1.105270e+05</td>\n",
       "      <td>110527.000000</td>\n",
       "      <td>110527.000000</td>\n",
       "      <td>110527.000000</td>\n",
       "      <td>110527.000000</td>\n",
       "      <td>110527.000000</td>\n",
       "      <td>110527.000000</td>\n",
       "      <td>110527.000000</td>\n",
       "    </tr>\n",
       "    <tr>\n",
       "      <th>mean</th>\n",
       "      <td>1.474963e+14</td>\n",
       "      <td>5.675305e+06</td>\n",
       "      <td>37.088874</td>\n",
       "      <td>0.098266</td>\n",
       "      <td>0.197246</td>\n",
       "      <td>0.071865</td>\n",
       "      <td>0.030400</td>\n",
       "      <td>0.022248</td>\n",
       "      <td>0.321026</td>\n",
       "    </tr>\n",
       "    <tr>\n",
       "      <th>std</th>\n",
       "      <td>2.560949e+14</td>\n",
       "      <td>7.129575e+04</td>\n",
       "      <td>23.110205</td>\n",
       "      <td>0.297675</td>\n",
       "      <td>0.397921</td>\n",
       "      <td>0.258265</td>\n",
       "      <td>0.171686</td>\n",
       "      <td>0.161543</td>\n",
       "      <td>0.466873</td>\n",
       "    </tr>\n",
       "    <tr>\n",
       "      <th>min</th>\n",
       "      <td>3.921800e+04</td>\n",
       "      <td>5.030230e+06</td>\n",
       "      <td>-1.000000</td>\n",
       "      <td>0.000000</td>\n",
       "      <td>0.000000</td>\n",
       "      <td>0.000000</td>\n",
       "      <td>0.000000</td>\n",
       "      <td>0.000000</td>\n",
       "      <td>0.000000</td>\n",
       "    </tr>\n",
       "    <tr>\n",
       "      <th>25%</th>\n",
       "      <td>4.172614e+12</td>\n",
       "      <td>5.640286e+06</td>\n",
       "      <td>18.000000</td>\n",
       "      <td>0.000000</td>\n",
       "      <td>0.000000</td>\n",
       "      <td>0.000000</td>\n",
       "      <td>0.000000</td>\n",
       "      <td>0.000000</td>\n",
       "      <td>0.000000</td>\n",
       "    </tr>\n",
       "    <tr>\n",
       "      <th>50%</th>\n",
       "      <td>3.173184e+13</td>\n",
       "      <td>5.680573e+06</td>\n",
       "      <td>37.000000</td>\n",
       "      <td>0.000000</td>\n",
       "      <td>0.000000</td>\n",
       "      <td>0.000000</td>\n",
       "      <td>0.000000</td>\n",
       "      <td>0.000000</td>\n",
       "      <td>0.000000</td>\n",
       "    </tr>\n",
       "    <tr>\n",
       "      <th>75%</th>\n",
       "      <td>9.439172e+13</td>\n",
       "      <td>5.725524e+06</td>\n",
       "      <td>55.000000</td>\n",
       "      <td>0.000000</td>\n",
       "      <td>0.000000</td>\n",
       "      <td>0.000000</td>\n",
       "      <td>0.000000</td>\n",
       "      <td>0.000000</td>\n",
       "      <td>1.000000</td>\n",
       "    </tr>\n",
       "    <tr>\n",
       "      <th>max</th>\n",
       "      <td>9.999816e+14</td>\n",
       "      <td>5.790484e+06</td>\n",
       "      <td>115.000000</td>\n",
       "      <td>1.000000</td>\n",
       "      <td>1.000000</td>\n",
       "      <td>1.000000</td>\n",
       "      <td>1.000000</td>\n",
       "      <td>4.000000</td>\n",
       "      <td>1.000000</td>\n",
       "    </tr>\n",
       "  </tbody>\n",
       "</table>\n",
       "</div>"
      ],
      "text/plain": [
       "          PatientId  AppointmentID            Age    Scholarship  \\\n",
       "count  1.105270e+05   1.105270e+05  110527.000000  110527.000000   \n",
       "mean   1.474963e+14   5.675305e+06      37.088874       0.098266   \n",
       "std    2.560949e+14   7.129575e+04      23.110205       0.297675   \n",
       "min    3.921800e+04   5.030230e+06      -1.000000       0.000000   \n",
       "25%    4.172614e+12   5.640286e+06      18.000000       0.000000   \n",
       "50%    3.173184e+13   5.680573e+06      37.000000       0.000000   \n",
       "75%    9.439172e+13   5.725524e+06      55.000000       0.000000   \n",
       "max    9.999816e+14   5.790484e+06     115.000000       1.000000   \n",
       "\n",
       "        Hipertension       Diabetes     Alcoholism        Handcap  \\\n",
       "count  110527.000000  110527.000000  110527.000000  110527.000000   \n",
       "mean        0.197246       0.071865       0.030400       0.022248   \n",
       "std         0.397921       0.258265       0.171686       0.161543   \n",
       "min         0.000000       0.000000       0.000000       0.000000   \n",
       "25%         0.000000       0.000000       0.000000       0.000000   \n",
       "50%         0.000000       0.000000       0.000000       0.000000   \n",
       "75%         0.000000       0.000000       0.000000       0.000000   \n",
       "max         1.000000       1.000000       1.000000       4.000000   \n",
       "\n",
       "        SMS_received  \n",
       "count  110527.000000  \n",
       "mean        0.321026  \n",
       "std         0.466873  \n",
       "min         0.000000  \n",
       "25%         0.000000  \n",
       "50%         0.000000  \n",
       "75%         1.000000  \n",
       "max         1.000000  "
      ]
     },
     "execution_count": 4,
     "metadata": {},
     "output_type": "execute_result"
    }
   ],
   "source": [
    "df.describe()"
   ]
  },
  {
   "cell_type": "code",
   "execution_count": 5,
   "id": "4ae2ee82",
   "metadata": {},
   "outputs": [
    {
     "data": {
      "text/html": [
       "<div>\n",
       "<style scoped>\n",
       "    .dataframe tbody tr th:only-of-type {\n",
       "        vertical-align: middle;\n",
       "    }\n",
       "\n",
       "    .dataframe tbody tr th {\n",
       "        vertical-align: top;\n",
       "    }\n",
       "\n",
       "    .dataframe thead th {\n",
       "        text-align: right;\n",
       "    }\n",
       "</style>\n",
       "<table border=\"1\" class=\"dataframe\">\n",
       "  <thead>\n",
       "    <tr style=\"text-align: right;\">\n",
       "      <th></th>\n",
       "      <th>PatientId</th>\n",
       "      <th>AppointmentID</th>\n",
       "      <th>Gender</th>\n",
       "      <th>ScheduledDay</th>\n",
       "      <th>AppointmentDay</th>\n",
       "      <th>Age</th>\n",
       "      <th>Neighbourhood</th>\n",
       "      <th>Scholarship</th>\n",
       "      <th>Hipertension</th>\n",
       "      <th>Diabetes</th>\n",
       "      <th>Alcoholism</th>\n",
       "      <th>Handcap</th>\n",
       "      <th>SMS_received</th>\n",
       "      <th>No-show</th>\n",
       "    </tr>\n",
       "  </thead>\n",
       "  <tbody>\n",
       "    <tr>\n",
       "      <th>99832</th>\n",
       "      <td>465943158731293</td>\n",
       "      <td>5775010</td>\n",
       "      <td>F</td>\n",
       "      <td>2016-06-06T08:58:13Z</td>\n",
       "      <td>2016-06-06T00:00:00Z</td>\n",
       "      <td>-1</td>\n",
       "      <td>ROMÃO</td>\n",
       "      <td>0</td>\n",
       "      <td>0</td>\n",
       "      <td>0</td>\n",
       "      <td>0</td>\n",
       "      <td>0</td>\n",
       "      <td>0</td>\n",
       "      <td>No</td>\n",
       "    </tr>\n",
       "  </tbody>\n",
       "</table>\n",
       "</div>"
      ],
      "text/plain": [
       "             PatientId  AppointmentID Gender          ScheduledDay  \\\n",
       "99832  465943158731293        5775010      F  2016-06-06T08:58:13Z   \n",
       "\n",
       "             AppointmentDay  Age Neighbourhood  Scholarship  Hipertension  \\\n",
       "99832  2016-06-06T00:00:00Z   -1         ROMÃO            0             0   \n",
       "\n",
       "       Diabetes  Alcoholism  Handcap  SMS_received No-show  \n",
       "99832         0           0        0             0      No  "
      ]
     },
     "execution_count": 5,
     "metadata": {},
     "output_type": "execute_result"
    }
   ],
   "source": [
    "df.query(\"Age == -1\")"
   ]
  },
  {
   "cell_type": "markdown",
   "id": "774cc870",
   "metadata": {},
   "source": [
    "It seems as though there was an error when input an entry in the age column since we have an age of -1. "
   ]
  },
  {
   "cell_type": "code",
   "execution_count": 6,
   "id": "045198ea",
   "metadata": {},
   "outputs": [
    {
     "data": {
      "text/html": [
       "<div>\n",
       "<style scoped>\n",
       "    .dataframe tbody tr th:only-of-type {\n",
       "        vertical-align: middle;\n",
       "    }\n",
       "\n",
       "    .dataframe tbody tr th {\n",
       "        vertical-align: top;\n",
       "    }\n",
       "\n",
       "    .dataframe thead th {\n",
       "        text-align: right;\n",
       "    }\n",
       "</style>\n",
       "<table border=\"1\" class=\"dataframe\">\n",
       "  <thead>\n",
       "    <tr style=\"text-align: right;\">\n",
       "      <th></th>\n",
       "      <th>PatientId</th>\n",
       "      <th>AppointmentID</th>\n",
       "      <th>Gender</th>\n",
       "      <th>ScheduledDay</th>\n",
       "      <th>AppointmentDay</th>\n",
       "      <th>Age</th>\n",
       "      <th>Neighbourhood</th>\n",
       "      <th>Scholarship</th>\n",
       "      <th>Hipertension</th>\n",
       "      <th>Diabetes</th>\n",
       "      <th>Alcoholism</th>\n",
       "      <th>Handcap</th>\n",
       "      <th>SMS_received</th>\n",
       "      <th>No-show</th>\n",
       "    </tr>\n",
       "  </thead>\n",
       "  <tbody>\n",
       "    <tr>\n",
       "      <th>63912</th>\n",
       "      <td>31963211613981</td>\n",
       "      <td>5700278</td>\n",
       "      <td>F</td>\n",
       "      <td>2016-05-16T09:17:44Z</td>\n",
       "      <td>2016-05-19T00:00:00Z</td>\n",
       "      <td>115</td>\n",
       "      <td>ANDORINHAS</td>\n",
       "      <td>0</td>\n",
       "      <td>0</td>\n",
       "      <td>0</td>\n",
       "      <td>0</td>\n",
       "      <td>1</td>\n",
       "      <td>0</td>\n",
       "      <td>Yes</td>\n",
       "    </tr>\n",
       "    <tr>\n",
       "      <th>63915</th>\n",
       "      <td>31963211613981</td>\n",
       "      <td>5700279</td>\n",
       "      <td>F</td>\n",
       "      <td>2016-05-16T09:17:44Z</td>\n",
       "      <td>2016-05-19T00:00:00Z</td>\n",
       "      <td>115</td>\n",
       "      <td>ANDORINHAS</td>\n",
       "      <td>0</td>\n",
       "      <td>0</td>\n",
       "      <td>0</td>\n",
       "      <td>0</td>\n",
       "      <td>1</td>\n",
       "      <td>0</td>\n",
       "      <td>Yes</td>\n",
       "    </tr>\n",
       "    <tr>\n",
       "      <th>68127</th>\n",
       "      <td>31963211613981</td>\n",
       "      <td>5562812</td>\n",
       "      <td>F</td>\n",
       "      <td>2016-04-08T14:29:17Z</td>\n",
       "      <td>2016-05-16T00:00:00Z</td>\n",
       "      <td>115</td>\n",
       "      <td>ANDORINHAS</td>\n",
       "      <td>0</td>\n",
       "      <td>0</td>\n",
       "      <td>0</td>\n",
       "      <td>0</td>\n",
       "      <td>1</td>\n",
       "      <td>0</td>\n",
       "      <td>Yes</td>\n",
       "    </tr>\n",
       "    <tr>\n",
       "      <th>76284</th>\n",
       "      <td>31963211613981</td>\n",
       "      <td>5744037</td>\n",
       "      <td>F</td>\n",
       "      <td>2016-05-30T09:44:51Z</td>\n",
       "      <td>2016-05-30T00:00:00Z</td>\n",
       "      <td>115</td>\n",
       "      <td>ANDORINHAS</td>\n",
       "      <td>0</td>\n",
       "      <td>0</td>\n",
       "      <td>0</td>\n",
       "      <td>0</td>\n",
       "      <td>1</td>\n",
       "      <td>0</td>\n",
       "      <td>No</td>\n",
       "    </tr>\n",
       "    <tr>\n",
       "      <th>97666</th>\n",
       "      <td>748234579244724</td>\n",
       "      <td>5717451</td>\n",
       "      <td>F</td>\n",
       "      <td>2016-05-19T07:57:56Z</td>\n",
       "      <td>2016-06-03T00:00:00Z</td>\n",
       "      <td>115</td>\n",
       "      <td>SÃO JOSÉ</td>\n",
       "      <td>0</td>\n",
       "      <td>1</td>\n",
       "      <td>0</td>\n",
       "      <td>0</td>\n",
       "      <td>0</td>\n",
       "      <td>1</td>\n",
       "      <td>No</td>\n",
       "    </tr>\n",
       "  </tbody>\n",
       "</table>\n",
       "</div>"
      ],
      "text/plain": [
       "             PatientId  AppointmentID Gender          ScheduledDay  \\\n",
       "63912   31963211613981        5700278      F  2016-05-16T09:17:44Z   \n",
       "63915   31963211613981        5700279      F  2016-05-16T09:17:44Z   \n",
       "68127   31963211613981        5562812      F  2016-04-08T14:29:17Z   \n",
       "76284   31963211613981        5744037      F  2016-05-30T09:44:51Z   \n",
       "97666  748234579244724        5717451      F  2016-05-19T07:57:56Z   \n",
       "\n",
       "             AppointmentDay  Age Neighbourhood  Scholarship  Hipertension  \\\n",
       "63912  2016-05-19T00:00:00Z  115    ANDORINHAS            0             0   \n",
       "63915  2016-05-19T00:00:00Z  115    ANDORINHAS            0             0   \n",
       "68127  2016-05-16T00:00:00Z  115    ANDORINHAS            0             0   \n",
       "76284  2016-05-30T00:00:00Z  115    ANDORINHAS            0             0   \n",
       "97666  2016-06-03T00:00:00Z  115      SÃO JOSÉ            0             1   \n",
       "\n",
       "       Diabetes  Alcoholism  Handcap  SMS_received No-show  \n",
       "63912         0           0        1             0     Yes  \n",
       "63915         0           0        1             0     Yes  \n",
       "68127         0           0        1             0     Yes  \n",
       "76284         0           0        1             0      No  \n",
       "97666         0           0        0             1      No  "
      ]
     },
     "execution_count": 6,
     "metadata": {},
     "output_type": "execute_result"
    }
   ],
   "source": [
    "df.query(\"Age == 115\")"
   ]
  },
  {
   "cell_type": "code",
   "execution_count": 7,
   "id": "de996f1e",
   "metadata": {},
   "outputs": [
    {
     "data": {
      "text/plain": [
       "PatientId          62299\n",
       "AppointmentID     110527\n",
       "Gender                 2\n",
       "ScheduledDay      103549\n",
       "AppointmentDay        27\n",
       "Age                  104\n",
       "Neighbourhood         81\n",
       "Scholarship            2\n",
       "Hipertension           2\n",
       "Diabetes               2\n",
       "Alcoholism             2\n",
       "Handcap                5\n",
       "SMS_received           2\n",
       "No-show                2\n",
       "dtype: int64"
      ]
     },
     "execution_count": 7,
     "metadata": {},
     "output_type": "execute_result"
    }
   ],
   "source": [
    "df.nunique()"
   ]
  },
  {
   "cell_type": "markdown",
   "id": "774dac8a",
   "metadata": {},
   "source": [
    "PatientId is duplicated and this points to the fact that one patient can have several appointments. The appointment day seems quite unique and may point to the fact that different patients may have appointments at the same time with different doctors. This feature may thus not be needed in our analysis and will be dropped."
   ]
  },
  {
   "cell_type": "code",
   "execution_count": 8,
   "id": "b7a986a9",
   "metadata": {},
   "outputs": [
    {
     "data": {
      "text/plain": [
       "(110527, 14)"
      ]
     },
     "execution_count": 8,
     "metadata": {},
     "output_type": "execute_result"
    }
   ],
   "source": [
    "df.shape"
   ]
  },
  {
   "cell_type": "code",
   "execution_count": 9,
   "id": "14dd233a",
   "metadata": {
    "scrolled": true
   },
   "outputs": [
    {
     "data": {
      "text/plain": [
       "0"
      ]
     },
     "execution_count": 9,
     "metadata": {},
     "output_type": "execute_result"
    }
   ],
   "source": [
    "df.duplicated().sum()"
   ]
  },
  {
   "cell_type": "markdown",
   "id": "8a8054bf",
   "metadata": {},
   "source": [
    "There seems to be no duplicates in the dataset but looking carefully at the dataset and more specifically for PatientID '31963211613981' the first 2 AppointmentDay and ScheduleDay seem to have been entered wrongly since they are at the same time."
   ]
  },
  {
   "cell_type": "code",
   "execution_count": 10,
   "id": "43e88171",
   "metadata": {},
   "outputs": [
    {
     "data": {
      "text/plain": [
       "PatientId         0\n",
       "AppointmentID     0\n",
       "Gender            0\n",
       "ScheduledDay      0\n",
       "AppointmentDay    0\n",
       "Age               0\n",
       "Neighbourhood     0\n",
       "Scholarship       0\n",
       "Hipertension      0\n",
       "Diabetes          0\n",
       "Alcoholism        0\n",
       "Handcap           0\n",
       "SMS_received      0\n",
       "No-show           0\n",
       "dtype: int64"
      ]
     },
     "execution_count": 10,
     "metadata": {},
     "output_type": "execute_result"
    }
   ],
   "source": [
    "df.isnull().sum()"
   ]
  },
  {
   "cell_type": "markdown",
   "id": "7b0c2165",
   "metadata": {},
   "source": [
    "The dataset has no null values."
   ]
  },
  {
   "cell_type": "code",
   "execution_count": 11,
   "id": "2f6b1cc6",
   "metadata": {},
   "outputs": [
    {
     "data": {
      "text/plain": [
       "0    108286\n",
       "1      2042\n",
       "2       183\n",
       "3        13\n",
       "4         3\n",
       "Name: Handcap, dtype: int64"
      ]
     },
     "execution_count": 11,
     "metadata": {},
     "output_type": "execute_result"
    }
   ],
   "source": [
    "df.Handcap.value_counts()"
   ]
  },
  {
   "cell_type": "markdown",
   "id": "cb7eb3ad",
   "metadata": {},
   "source": [
    "Patients' disabilities seem to vary in severity from a value of 0 to 4 as the highest. "
   ]
  },
  {
   "cell_type": "markdown",
   "id": "ecffe535",
   "metadata": {},
   "source": [
    "### Data Cleaning"
   ]
  },
  {
   "cell_type": "markdown",
   "id": "44ed1eaf",
   "metadata": {},
   "source": [
    "First I am going to rename the columns to achieve some uniformity. I will make all column names lowercase."
   ]
  },
  {
   "cell_type": "markdown",
   "id": "47623cba",
   "metadata": {},
   "source": [
    "The below code will fisrt rename the below specified columns and then make the column names all lowercase and replace '-' with '_'"
   ]
  },
  {
   "cell_type": "code",
   "execution_count": 12,
   "id": "3d1c9dcf",
   "metadata": {},
   "outputs": [
    {
     "data": {
      "text/html": [
       "<div>\n",
       "<style scoped>\n",
       "    .dataframe tbody tr th:only-of-type {\n",
       "        vertical-align: middle;\n",
       "    }\n",
       "\n",
       "    .dataframe tbody tr th {\n",
       "        vertical-align: top;\n",
       "    }\n",
       "\n",
       "    .dataframe thead th {\n",
       "        text-align: right;\n",
       "    }\n",
       "</style>\n",
       "<table border=\"1\" class=\"dataframe\">\n",
       "  <thead>\n",
       "    <tr style=\"text-align: right;\">\n",
       "      <th></th>\n",
       "      <th>patientid</th>\n",
       "      <th>appointmentid</th>\n",
       "      <th>gender</th>\n",
       "      <th>scheduled_day</th>\n",
       "      <th>appointment_day</th>\n",
       "      <th>age</th>\n",
       "      <th>neighbourhood</th>\n",
       "      <th>scholarship</th>\n",
       "      <th>hypertension</th>\n",
       "      <th>diabetes</th>\n",
       "      <th>alcoholism</th>\n",
       "      <th>handicap</th>\n",
       "      <th>sms_received</th>\n",
       "      <th>no_show</th>\n",
       "    </tr>\n",
       "  </thead>\n",
       "  <tbody>\n",
       "    <tr>\n",
       "      <th>0</th>\n",
       "      <td>29872499824296</td>\n",
       "      <td>5642903</td>\n",
       "      <td>F</td>\n",
       "      <td>2016-04-29T18:38:08Z</td>\n",
       "      <td>2016-04-29T00:00:00Z</td>\n",
       "      <td>62</td>\n",
       "      <td>JARDIM DA PENHA</td>\n",
       "      <td>0</td>\n",
       "      <td>1</td>\n",
       "      <td>0</td>\n",
       "      <td>0</td>\n",
       "      <td>0</td>\n",
       "      <td>0</td>\n",
       "      <td>No</td>\n",
       "    </tr>\n",
       "  </tbody>\n",
       "</table>\n",
       "</div>"
      ],
      "text/plain": [
       "        patientid  appointmentid gender         scheduled_day  \\\n",
       "0  29872499824296        5642903      F  2016-04-29T18:38:08Z   \n",
       "\n",
       "        appointment_day  age    neighbourhood  scholarship  hypertension  \\\n",
       "0  2016-04-29T00:00:00Z   62  JARDIM DA PENHA            0             1   \n",
       "\n",
       "   diabetes  alcoholism  handicap  sms_received no_show  \n",
       "0         0           0         0             0      No  "
      ]
     },
     "execution_count": 12,
     "metadata": {},
     "output_type": "execute_result"
    }
   ],
   "source": [
    "df.rename(columns={'ScheduledDay':'Scheduled_Day','AppointmentDay':'Appointment_Day','Hipertension': 'Hypertension', 'Handcap': 'Handicap'},\n",
    "          inplace=True)\n",
    "df.rename(columns=lambda x: x.lower().replace(\"-\",\"_\"), inplace=True)\n",
    "df.head(1)"
   ]
  },
  {
   "cell_type": "markdown",
   "id": "6431c0d4",
   "metadata": {},
   "source": [
    "Convert the features that specify dates to datetime datatypes."
   ]
  },
  {
   "cell_type": "code",
   "execution_count": 13,
   "id": "6861a785",
   "metadata": {},
   "outputs": [
    {
     "data": {
      "text/plain": [
       "patientid                        int64\n",
       "appointmentid                    int64\n",
       "gender                          object\n",
       "scheduled_day      datetime64[ns, UTC]\n",
       "appointment_day    datetime64[ns, UTC]\n",
       "age                              int64\n",
       "neighbourhood                   object\n",
       "scholarship                      int64\n",
       "hypertension                     int64\n",
       "diabetes                         int64\n",
       "alcoholism                       int64\n",
       "handicap                         int64\n",
       "sms_received                     int64\n",
       "no_show                         object\n",
       "dtype: object"
      ]
     },
     "execution_count": 13,
     "metadata": {},
     "output_type": "execute_result"
    }
   ],
   "source": [
    "# Convert the 'scheduled_day' and 'appointment_day' columns to datetime data type\n",
    "df[['scheduled_day', 'appointment_day']] = df[['scheduled_day', 'appointment_day']].apply(pd.to_datetime)\n",
    "df.dtypes"
   ]
  },
  {
   "cell_type": "code",
   "execution_count": 14,
   "id": "46556be4",
   "metadata": {},
   "outputs": [
    {
     "data": {
      "text/plain": [
       "No     88208\n",
       "Yes    22319\n",
       "Name: no_show, dtype: int64"
      ]
     },
     "execution_count": 14,
     "metadata": {},
     "output_type": "execute_result"
    }
   ],
   "source": [
    "#Check to see the proportions of no_show vs the ones who showed up\n",
    "df['no_show'].value_counts()"
   ]
  },
  {
   "cell_type": "markdown",
   "id": "04263d41",
   "metadata": {},
   "source": [
    "Drop 'appointmentid' since it plays no part in our analysis"
   ]
  },
  {
   "cell_type": "code",
   "execution_count": 15,
   "id": "07b0fa91",
   "metadata": {},
   "outputs": [
    {
     "data": {
      "text/html": [
       "<div>\n",
       "<style scoped>\n",
       "    .dataframe tbody tr th:only-of-type {\n",
       "        vertical-align: middle;\n",
       "    }\n",
       "\n",
       "    .dataframe tbody tr th {\n",
       "        vertical-align: top;\n",
       "    }\n",
       "\n",
       "    .dataframe thead th {\n",
       "        text-align: right;\n",
       "    }\n",
       "</style>\n",
       "<table border=\"1\" class=\"dataframe\">\n",
       "  <thead>\n",
       "    <tr style=\"text-align: right;\">\n",
       "      <th></th>\n",
       "      <th>patientid</th>\n",
       "      <th>gender</th>\n",
       "      <th>scheduled_day</th>\n",
       "      <th>appointment_day</th>\n",
       "      <th>age</th>\n",
       "      <th>neighbourhood</th>\n",
       "      <th>scholarship</th>\n",
       "      <th>hypertension</th>\n",
       "      <th>diabetes</th>\n",
       "      <th>alcoholism</th>\n",
       "      <th>handicap</th>\n",
       "      <th>sms_received</th>\n",
       "      <th>no_show</th>\n",
       "    </tr>\n",
       "  </thead>\n",
       "  <tbody>\n",
       "    <tr>\n",
       "      <th>0</th>\n",
       "      <td>29872499824296</td>\n",
       "      <td>F</td>\n",
       "      <td>2016-04-29 18:38:08+00:00</td>\n",
       "      <td>2016-04-29 00:00:00+00:00</td>\n",
       "      <td>62</td>\n",
       "      <td>JARDIM DA PENHA</td>\n",
       "      <td>0</td>\n",
       "      <td>1</td>\n",
       "      <td>0</td>\n",
       "      <td>0</td>\n",
       "      <td>0</td>\n",
       "      <td>0</td>\n",
       "      <td>No</td>\n",
       "    </tr>\n",
       "  </tbody>\n",
       "</table>\n",
       "</div>"
      ],
      "text/plain": [
       "        patientid gender             scheduled_day           appointment_day  \\\n",
       "0  29872499824296      F 2016-04-29 18:38:08+00:00 2016-04-29 00:00:00+00:00   \n",
       "\n",
       "   age    neighbourhood  scholarship  hypertension  diabetes  alcoholism  \\\n",
       "0   62  JARDIM DA PENHA            0             1         0           0   \n",
       "\n",
       "   handicap  sms_received no_show  \n",
       "0         0             0      No  "
      ]
     },
     "execution_count": 15,
     "metadata": {},
     "output_type": "execute_result"
    }
   ],
   "source": [
    "df.drop(['appointmentid'] , axis=1, inplace=True)\n",
    "df.head(1)"
   ]
  },
  {
   "cell_type": "markdown",
   "id": "d0cd0bf1",
   "metadata": {},
   "source": [
    "Drop the row where the age is '-1' since it seems to have been a wrong entry"
   ]
  },
  {
   "cell_type": "code",
   "execution_count": 16,
   "id": "026ea2a4",
   "metadata": {},
   "outputs": [
    {
     "data": {
      "text/plain": [
       "(110526, 13)"
      ]
     },
     "execution_count": 16,
     "metadata": {},
     "output_type": "execute_result"
    }
   ],
   "source": [
    "df = df[df.age != -1]\n",
    "df.shape"
   ]
  },
  {
   "cell_type": "markdown",
   "id": "5ec2f30f",
   "metadata": {},
   "source": [
    "Drop the rows for person with age = 115 and has same entries for both scheduled_day and appointment_day"
   ]
  },
  {
   "cell_type": "code",
   "execution_count": 17,
   "id": "234a919b",
   "metadata": {},
   "outputs": [
    {
     "data": {
      "text/html": [
       "<div>\n",
       "<style scoped>\n",
       "    .dataframe tbody tr th:only-of-type {\n",
       "        vertical-align: middle;\n",
       "    }\n",
       "\n",
       "    .dataframe tbody tr th {\n",
       "        vertical-align: top;\n",
       "    }\n",
       "\n",
       "    .dataframe thead th {\n",
       "        text-align: right;\n",
       "    }\n",
       "</style>\n",
       "<table border=\"1\" class=\"dataframe\">\n",
       "  <thead>\n",
       "    <tr style=\"text-align: right;\">\n",
       "      <th></th>\n",
       "      <th>patientid</th>\n",
       "      <th>gender</th>\n",
       "      <th>scheduled_day</th>\n",
       "      <th>appointment_day</th>\n",
       "      <th>age</th>\n",
       "      <th>neighbourhood</th>\n",
       "      <th>scholarship</th>\n",
       "      <th>hypertension</th>\n",
       "      <th>diabetes</th>\n",
       "      <th>alcoholism</th>\n",
       "      <th>handicap</th>\n",
       "      <th>sms_received</th>\n",
       "      <th>no_show</th>\n",
       "    </tr>\n",
       "  </thead>\n",
       "  <tbody>\n",
       "    <tr>\n",
       "      <th>63912</th>\n",
       "      <td>31963211613981</td>\n",
       "      <td>F</td>\n",
       "      <td>2016-05-16 09:17:44+00:00</td>\n",
       "      <td>2016-05-19 00:00:00+00:00</td>\n",
       "      <td>115</td>\n",
       "      <td>ANDORINHAS</td>\n",
       "      <td>0</td>\n",
       "      <td>0</td>\n",
       "      <td>0</td>\n",
       "      <td>0</td>\n",
       "      <td>1</td>\n",
       "      <td>0</td>\n",
       "      <td>Yes</td>\n",
       "    </tr>\n",
       "    <tr>\n",
       "      <th>68127</th>\n",
       "      <td>31963211613981</td>\n",
       "      <td>F</td>\n",
       "      <td>2016-04-08 14:29:17+00:00</td>\n",
       "      <td>2016-05-16 00:00:00+00:00</td>\n",
       "      <td>115</td>\n",
       "      <td>ANDORINHAS</td>\n",
       "      <td>0</td>\n",
       "      <td>0</td>\n",
       "      <td>0</td>\n",
       "      <td>0</td>\n",
       "      <td>1</td>\n",
       "      <td>0</td>\n",
       "      <td>Yes</td>\n",
       "    </tr>\n",
       "    <tr>\n",
       "      <th>76284</th>\n",
       "      <td>31963211613981</td>\n",
       "      <td>F</td>\n",
       "      <td>2016-05-30 09:44:51+00:00</td>\n",
       "      <td>2016-05-30 00:00:00+00:00</td>\n",
       "      <td>115</td>\n",
       "      <td>ANDORINHAS</td>\n",
       "      <td>0</td>\n",
       "      <td>0</td>\n",
       "      <td>0</td>\n",
       "      <td>0</td>\n",
       "      <td>1</td>\n",
       "      <td>0</td>\n",
       "      <td>No</td>\n",
       "    </tr>\n",
       "    <tr>\n",
       "      <th>97666</th>\n",
       "      <td>748234579244724</td>\n",
       "      <td>F</td>\n",
       "      <td>2016-05-19 07:57:56+00:00</td>\n",
       "      <td>2016-06-03 00:00:00+00:00</td>\n",
       "      <td>115</td>\n",
       "      <td>SÃO JOSÉ</td>\n",
       "      <td>0</td>\n",
       "      <td>1</td>\n",
       "      <td>0</td>\n",
       "      <td>0</td>\n",
       "      <td>0</td>\n",
       "      <td>1</td>\n",
       "      <td>No</td>\n",
       "    </tr>\n",
       "  </tbody>\n",
       "</table>\n",
       "</div>"
      ],
      "text/plain": [
       "             patientid gender             scheduled_day  \\\n",
       "63912   31963211613981      F 2016-05-16 09:17:44+00:00   \n",
       "68127   31963211613981      F 2016-04-08 14:29:17+00:00   \n",
       "76284   31963211613981      F 2016-05-30 09:44:51+00:00   \n",
       "97666  748234579244724      F 2016-05-19 07:57:56+00:00   \n",
       "\n",
       "                appointment_day  age neighbourhood  scholarship  hypertension  \\\n",
       "63912 2016-05-19 00:00:00+00:00  115    ANDORINHAS            0             0   \n",
       "68127 2016-05-16 00:00:00+00:00  115    ANDORINHAS            0             0   \n",
       "76284 2016-05-30 00:00:00+00:00  115    ANDORINHAS            0             0   \n",
       "97666 2016-06-03 00:00:00+00:00  115      SÃO JOSÉ            0             1   \n",
       "\n",
       "       diabetes  alcoholism  handicap  sms_received no_show  \n",
       "63912         0           0         1             0     Yes  \n",
       "68127         0           0         1             0     Yes  \n",
       "76284         0           0         1             0      No  \n",
       "97666         0           0         0             1      No  "
      ]
     },
     "execution_count": 17,
     "metadata": {},
     "output_type": "execute_result"
    }
   ],
   "source": [
    "#First we get the rows for patients with age = 115 and then drop the duplicates in both the scheduled_day and appointment_day columns\n",
    "age_115 = df.query('age == 115')\n",
    "age_115 = age_115.drop_duplicates(subset=['scheduled_day', 'appointment_day'], keep ='first')\n",
    "age_115"
   ]
  },
  {
   "cell_type": "code",
   "execution_count": 18,
   "id": "0ab6cec4",
   "metadata": {},
   "outputs": [
    {
     "data": {
      "text/plain": [
       "(110525, 13)"
      ]
     },
     "execution_count": 18,
     "metadata": {},
     "output_type": "execute_result"
    }
   ],
   "source": [
    "# First extract the rowss with age not equal to 115\n",
    "df = df.query('age != 115')\n",
    "#Concatinating the df with that of age_115 gotten after dropping the duplicates\n",
    "df = pd.concat([df, age_115])\n",
    "df.shape                "
   ]
  },
  {
   "cell_type": "markdown",
   "id": "f4771e90",
   "metadata": {},
   "source": [
    "We then create a new column with timedeltas of the appointment_day and scheduled_day"
   ]
  },
  {
   "cell_type": "code",
   "execution_count": 19,
   "id": "e1a67b14",
   "metadata": {},
   "outputs": [
    {
     "data": {
      "text/html": [
       "<div>\n",
       "<style scoped>\n",
       "    .dataframe tbody tr th:only-of-type {\n",
       "        vertical-align: middle;\n",
       "    }\n",
       "\n",
       "    .dataframe tbody tr th {\n",
       "        vertical-align: top;\n",
       "    }\n",
       "\n",
       "    .dataframe thead th {\n",
       "        text-align: right;\n",
       "    }\n",
       "</style>\n",
       "<table border=\"1\" class=\"dataframe\">\n",
       "  <thead>\n",
       "    <tr style=\"text-align: right;\">\n",
       "      <th></th>\n",
       "      <th>patientid</th>\n",
       "      <th>gender</th>\n",
       "      <th>scheduled_day</th>\n",
       "      <th>appointment_day</th>\n",
       "      <th>age</th>\n",
       "      <th>neighbourhood</th>\n",
       "      <th>scholarship</th>\n",
       "      <th>hypertension</th>\n",
       "      <th>diabetes</th>\n",
       "      <th>alcoholism</th>\n",
       "      <th>handicap</th>\n",
       "      <th>sms_received</th>\n",
       "      <th>no_show</th>\n",
       "      <th>waiting_period</th>\n",
       "    </tr>\n",
       "  </thead>\n",
       "  <tbody>\n",
       "    <tr>\n",
       "      <th>0</th>\n",
       "      <td>29872499824296</td>\n",
       "      <td>F</td>\n",
       "      <td>2016-04-29 18:38:08+00:00</td>\n",
       "      <td>2016-04-29 00:00:00+00:00</td>\n",
       "      <td>62</td>\n",
       "      <td>JARDIM DA PENHA</td>\n",
       "      <td>0</td>\n",
       "      <td>1</td>\n",
       "      <td>0</td>\n",
       "      <td>0</td>\n",
       "      <td>0</td>\n",
       "      <td>0</td>\n",
       "      <td>No</td>\n",
       "      <td>-1 days +05:21:52</td>\n",
       "    </tr>\n",
       "    <tr>\n",
       "      <th>1</th>\n",
       "      <td>558997776694438</td>\n",
       "      <td>M</td>\n",
       "      <td>2016-04-29 16:08:27+00:00</td>\n",
       "      <td>2016-04-29 00:00:00+00:00</td>\n",
       "      <td>56</td>\n",
       "      <td>JARDIM DA PENHA</td>\n",
       "      <td>0</td>\n",
       "      <td>0</td>\n",
       "      <td>0</td>\n",
       "      <td>0</td>\n",
       "      <td>0</td>\n",
       "      <td>0</td>\n",
       "      <td>No</td>\n",
       "      <td>-1 days +07:51:33</td>\n",
       "    </tr>\n",
       "    <tr>\n",
       "      <th>2</th>\n",
       "      <td>4262962299951</td>\n",
       "      <td>F</td>\n",
       "      <td>2016-04-29 16:19:04+00:00</td>\n",
       "      <td>2016-04-29 00:00:00+00:00</td>\n",
       "      <td>62</td>\n",
       "      <td>MATA DA PRAIA</td>\n",
       "      <td>0</td>\n",
       "      <td>0</td>\n",
       "      <td>0</td>\n",
       "      <td>0</td>\n",
       "      <td>0</td>\n",
       "      <td>0</td>\n",
       "      <td>No</td>\n",
       "      <td>-1 days +07:40:56</td>\n",
       "    </tr>\n",
       "    <tr>\n",
       "      <th>3</th>\n",
       "      <td>867951213174</td>\n",
       "      <td>F</td>\n",
       "      <td>2016-04-29 17:29:31+00:00</td>\n",
       "      <td>2016-04-29 00:00:00+00:00</td>\n",
       "      <td>8</td>\n",
       "      <td>PONTAL DE CAMBURI</td>\n",
       "      <td>0</td>\n",
       "      <td>0</td>\n",
       "      <td>0</td>\n",
       "      <td>0</td>\n",
       "      <td>0</td>\n",
       "      <td>0</td>\n",
       "      <td>No</td>\n",
       "      <td>-1 days +06:30:29</td>\n",
       "    </tr>\n",
       "    <tr>\n",
       "      <th>4</th>\n",
       "      <td>8841186448183</td>\n",
       "      <td>F</td>\n",
       "      <td>2016-04-29 16:07:23+00:00</td>\n",
       "      <td>2016-04-29 00:00:00+00:00</td>\n",
       "      <td>56</td>\n",
       "      <td>JARDIM DA PENHA</td>\n",
       "      <td>0</td>\n",
       "      <td>1</td>\n",
       "      <td>1</td>\n",
       "      <td>0</td>\n",
       "      <td>0</td>\n",
       "      <td>0</td>\n",
       "      <td>No</td>\n",
       "      <td>-1 days +07:52:37</td>\n",
       "    </tr>\n",
       "  </tbody>\n",
       "</table>\n",
       "</div>"
      ],
      "text/plain": [
       "         patientid gender             scheduled_day           appointment_day  \\\n",
       "0   29872499824296      F 2016-04-29 18:38:08+00:00 2016-04-29 00:00:00+00:00   \n",
       "1  558997776694438      M 2016-04-29 16:08:27+00:00 2016-04-29 00:00:00+00:00   \n",
       "2    4262962299951      F 2016-04-29 16:19:04+00:00 2016-04-29 00:00:00+00:00   \n",
       "3     867951213174      F 2016-04-29 17:29:31+00:00 2016-04-29 00:00:00+00:00   \n",
       "4    8841186448183      F 2016-04-29 16:07:23+00:00 2016-04-29 00:00:00+00:00   \n",
       "\n",
       "   age      neighbourhood  scholarship  hypertension  diabetes  alcoholism  \\\n",
       "0   62    JARDIM DA PENHA            0             1         0           0   \n",
       "1   56    JARDIM DA PENHA            0             0         0           0   \n",
       "2   62      MATA DA PRAIA            0             0         0           0   \n",
       "3    8  PONTAL DE CAMBURI            0             0         0           0   \n",
       "4   56    JARDIM DA PENHA            0             1         1           0   \n",
       "\n",
       "   handicap  sms_received no_show    waiting_period  \n",
       "0         0             0      No -1 days +05:21:52  \n",
       "1         0             0      No -1 days +07:51:33  \n",
       "2         0             0      No -1 days +07:40:56  \n",
       "3         0             0      No -1 days +06:30:29  \n",
       "4         0             0      No -1 days +07:52:37  "
      ]
     },
     "execution_count": 19,
     "metadata": {},
     "output_type": "execute_result"
    }
   ],
   "source": [
    "df['waiting_period']=df['appointment_day']-df['scheduled_day']\n",
    "df.head()"
   ]
  },
  {
   "cell_type": "markdown",
   "id": "d91e8e71",
   "metadata": {},
   "source": [
    "Since we can't have a waiting period on the negative, we drop the rows with negative values in the waiting_period column."
   ]
  },
  {
   "cell_type": "code",
   "execution_count": 20,
   "id": "d5dbd35d",
   "metadata": {},
   "outputs": [
    {
     "data": {
      "text/plain": [
       "(71958, 14)"
      ]
     },
     "execution_count": 20,
     "metadata": {},
     "output_type": "execute_result"
    }
   ],
   "source": [
    "df = df[df['waiting_period'].dt.days >= 0]\n",
    "df.shape"
   ]
  },
  {
   "cell_type": "code",
   "execution_count": 21,
   "id": "59d64b3c",
   "metadata": {},
   "outputs": [
    {
     "name": "stderr",
     "output_type": "stream",
     "text": [
      "C:\\Users\\marko\\AppData\\Local\\Temp\\ipykernel_1424\\2884002236.py:1: FutureWarning: Treating datetime data as categorical rather than numeric in `.describe` is deprecated and will be removed in a future version of pandas. Specify `datetime_is_numeric=True` to silence this warning and adopt the future behavior now.\n",
      "  df.describe(include='all')\n",
      "C:\\Users\\marko\\AppData\\Local\\Temp\\ipykernel_1424\\2884002236.py:1: FutureWarning: Treating datetime data as categorical rather than numeric in `.describe` is deprecated and will be removed in a future version of pandas. Specify `datetime_is_numeric=True` to silence this warning and adopt the future behavior now.\n",
      "  df.describe(include='all')\n"
     ]
    },
    {
     "data": {
      "text/html": [
       "<div>\n",
       "<style scoped>\n",
       "    .dataframe tbody tr th:only-of-type {\n",
       "        vertical-align: middle;\n",
       "    }\n",
       "\n",
       "    .dataframe tbody tr th {\n",
       "        vertical-align: top;\n",
       "    }\n",
       "\n",
       "    .dataframe thead th {\n",
       "        text-align: right;\n",
       "    }\n",
       "</style>\n",
       "<table border=\"1\" class=\"dataframe\">\n",
       "  <thead>\n",
       "    <tr style=\"text-align: right;\">\n",
       "      <th></th>\n",
       "      <th>patientid</th>\n",
       "      <th>gender</th>\n",
       "      <th>scheduled_day</th>\n",
       "      <th>appointment_day</th>\n",
       "      <th>age</th>\n",
       "      <th>neighbourhood</th>\n",
       "      <th>scholarship</th>\n",
       "      <th>hypertension</th>\n",
       "      <th>diabetes</th>\n",
       "      <th>alcoholism</th>\n",
       "      <th>handicap</th>\n",
       "      <th>sms_received</th>\n",
       "      <th>no_show</th>\n",
       "      <th>waiting_period</th>\n",
       "    </tr>\n",
       "  </thead>\n",
       "  <tbody>\n",
       "    <tr>\n",
       "      <th>count</th>\n",
       "      <td>7.195800e+04</td>\n",
       "      <td>71958</td>\n",
       "      <td>71958</td>\n",
       "      <td>71958</td>\n",
       "      <td>71958.000000</td>\n",
       "      <td>71958</td>\n",
       "      <td>71958.000000</td>\n",
       "      <td>71958.000000</td>\n",
       "      <td>71958.000000</td>\n",
       "      <td>71958.000000</td>\n",
       "      <td>71958.000000</td>\n",
       "      <td>71958.000000</td>\n",
       "      <td>71958</td>\n",
       "      <td>71958</td>\n",
       "    </tr>\n",
       "    <tr>\n",
       "      <th>unique</th>\n",
       "      <td>NaN</td>\n",
       "      <td>2</td>\n",
       "      <td>68666</td>\n",
       "      <td>27</td>\n",
       "      <td>NaN</td>\n",
       "      <td>80</td>\n",
       "      <td>NaN</td>\n",
       "      <td>NaN</td>\n",
       "      <td>NaN</td>\n",
       "      <td>NaN</td>\n",
       "      <td>NaN</td>\n",
       "      <td>NaN</td>\n",
       "      <td>2</td>\n",
       "      <td>NaN</td>\n",
       "    </tr>\n",
       "    <tr>\n",
       "      <th>top</th>\n",
       "      <td>NaN</td>\n",
       "      <td>F</td>\n",
       "      <td>2016-04-25 17:17:46+00:00</td>\n",
       "      <td>2016-06-06 00:00:00+00:00</td>\n",
       "      <td>NaN</td>\n",
       "      <td>JARDIM CAMBURI</td>\n",
       "      <td>NaN</td>\n",
       "      <td>NaN</td>\n",
       "      <td>NaN</td>\n",
       "      <td>NaN</td>\n",
       "      <td>NaN</td>\n",
       "      <td>NaN</td>\n",
       "      <td>No</td>\n",
       "      <td>NaN</td>\n",
       "    </tr>\n",
       "    <tr>\n",
       "      <th>freq</th>\n",
       "      <td>NaN</td>\n",
       "      <td>48069</td>\n",
       "      <td>22</td>\n",
       "      <td>3073</td>\n",
       "      <td>NaN</td>\n",
       "      <td>5213</td>\n",
       "      <td>NaN</td>\n",
       "      <td>NaN</td>\n",
       "      <td>NaN</td>\n",
       "      <td>NaN</td>\n",
       "      <td>NaN</td>\n",
       "      <td>NaN</td>\n",
       "      <td>51437</td>\n",
       "      <td>NaN</td>\n",
       "    </tr>\n",
       "    <tr>\n",
       "      <th>first</th>\n",
       "      <td>NaN</td>\n",
       "      <td>NaN</td>\n",
       "      <td>2015-11-10 07:13:56+00:00</td>\n",
       "      <td>2016-04-29 00:00:00+00:00</td>\n",
       "      <td>NaN</td>\n",
       "      <td>NaN</td>\n",
       "      <td>NaN</td>\n",
       "      <td>NaN</td>\n",
       "      <td>NaN</td>\n",
       "      <td>NaN</td>\n",
       "      <td>NaN</td>\n",
       "      <td>NaN</td>\n",
       "      <td>NaN</td>\n",
       "      <td>NaN</td>\n",
       "    </tr>\n",
       "    <tr>\n",
       "      <th>last</th>\n",
       "      <td>NaN</td>\n",
       "      <td>NaN</td>\n",
       "      <td>2016-06-07 19:03:57+00:00</td>\n",
       "      <td>2016-06-08 00:00:00+00:00</td>\n",
       "      <td>NaN</td>\n",
       "      <td>NaN</td>\n",
       "      <td>NaN</td>\n",
       "      <td>NaN</td>\n",
       "      <td>NaN</td>\n",
       "      <td>NaN</td>\n",
       "      <td>NaN</td>\n",
       "      <td>NaN</td>\n",
       "      <td>NaN</td>\n",
       "      <td>NaN</td>\n",
       "    </tr>\n",
       "    <tr>\n",
       "      <th>mean</th>\n",
       "      <td>1.452621e+14</td>\n",
       "      <td>NaN</td>\n",
       "      <td>NaN</td>\n",
       "      <td>NaN</td>\n",
       "      <td>38.501501</td>\n",
       "      <td>NaN</td>\n",
       "      <td>0.092707</td>\n",
       "      <td>0.208900</td>\n",
       "      <td>0.074724</td>\n",
       "      <td>0.025320</td>\n",
       "      <td>0.020012</td>\n",
       "      <td>0.493093</td>\n",
       "      <td>NaN</td>\n",
       "      <td>15 days 03:50:21.661469190</td>\n",
       "    </tr>\n",
       "    <tr>\n",
       "      <th>std</th>\n",
       "      <td>2.535681e+14</td>\n",
       "      <td>NaN</td>\n",
       "      <td>NaN</td>\n",
       "      <td>NaN</td>\n",
       "      <td>22.923807</td>\n",
       "      <td>NaN</td>\n",
       "      <td>0.290023</td>\n",
       "      <td>0.406525</td>\n",
       "      <td>0.262948</td>\n",
       "      <td>0.157097</td>\n",
       "      <td>0.154029</td>\n",
       "      <td>0.499956</td>\n",
       "      <td>NaN</td>\n",
       "      <td>16 days 11:46:39.729234902</td>\n",
       "    </tr>\n",
       "    <tr>\n",
       "      <th>min</th>\n",
       "      <td>3.921800e+04</td>\n",
       "      <td>NaN</td>\n",
       "      <td>NaN</td>\n",
       "      <td>NaN</td>\n",
       "      <td>0.000000</td>\n",
       "      <td>NaN</td>\n",
       "      <td>0.000000</td>\n",
       "      <td>0.000000</td>\n",
       "      <td>0.000000</td>\n",
       "      <td>0.000000</td>\n",
       "      <td>0.000000</td>\n",
       "      <td>0.000000</td>\n",
       "      <td>NaN</td>\n",
       "      <td>0 days 03:16:20</td>\n",
       "    </tr>\n",
       "    <tr>\n",
       "      <th>25%</th>\n",
       "      <td>3.967778e+12</td>\n",
       "      <td>NaN</td>\n",
       "      <td>NaN</td>\n",
       "      <td>NaN</td>\n",
       "      <td>19.000000</td>\n",
       "      <td>NaN</td>\n",
       "      <td>0.000000</td>\n",
       "      <td>0.000000</td>\n",
       "      <td>0.000000</td>\n",
       "      <td>0.000000</td>\n",
       "      <td>0.000000</td>\n",
       "      <td>0.000000</td>\n",
       "      <td>NaN</td>\n",
       "      <td>3 days 15:14:52.500000</td>\n",
       "    </tr>\n",
       "    <tr>\n",
       "      <th>50%</th>\n",
       "      <td>2.991812e+13</td>\n",
       "      <td>NaN</td>\n",
       "      <td>NaN</td>\n",
       "      <td>NaN</td>\n",
       "      <td>39.000000</td>\n",
       "      <td>NaN</td>\n",
       "      <td>0.000000</td>\n",
       "      <td>0.000000</td>\n",
       "      <td>0.000000</td>\n",
       "      <td>0.000000</td>\n",
       "      <td>0.000000</td>\n",
       "      <td>0.000000</td>\n",
       "      <td>NaN</td>\n",
       "      <td>8 days 16:25:38.500000</td>\n",
       "    </tr>\n",
       "    <tr>\n",
       "      <th>75%</th>\n",
       "      <td>9.371704e+13</td>\n",
       "      <td>NaN</td>\n",
       "      <td>NaN</td>\n",
       "      <td>NaN</td>\n",
       "      <td>57.000000</td>\n",
       "      <td>NaN</td>\n",
       "      <td>0.000000</td>\n",
       "      <td>0.000000</td>\n",
       "      <td>0.000000</td>\n",
       "      <td>0.000000</td>\n",
       "      <td>0.000000</td>\n",
       "      <td>1.000000</td>\n",
       "      <td>NaN</td>\n",
       "      <td>21 days 15:01:07.750000</td>\n",
       "    </tr>\n",
       "    <tr>\n",
       "      <th>max</th>\n",
       "      <td>9.999320e+14</td>\n",
       "      <td>NaN</td>\n",
       "      <td>NaN</td>\n",
       "      <td>NaN</td>\n",
       "      <td>115.000000</td>\n",
       "      <td>NaN</td>\n",
       "      <td>1.000000</td>\n",
       "      <td>1.000000</td>\n",
       "      <td>1.000000</td>\n",
       "      <td>1.000000</td>\n",
       "      <td>4.000000</td>\n",
       "      <td>1.000000</td>\n",
       "      <td>NaN</td>\n",
       "      <td>178 days 13:19:01</td>\n",
       "    </tr>\n",
       "  </tbody>\n",
       "</table>\n",
       "</div>"
      ],
      "text/plain": [
       "           patientid gender              scheduled_day  \\\n",
       "count   7.195800e+04  71958                      71958   \n",
       "unique           NaN      2                      68666   \n",
       "top              NaN      F  2016-04-25 17:17:46+00:00   \n",
       "freq             NaN  48069                         22   \n",
       "first            NaN    NaN  2015-11-10 07:13:56+00:00   \n",
       "last             NaN    NaN  2016-06-07 19:03:57+00:00   \n",
       "mean    1.452621e+14    NaN                        NaN   \n",
       "std     2.535681e+14    NaN                        NaN   \n",
       "min     3.921800e+04    NaN                        NaN   \n",
       "25%     3.967778e+12    NaN                        NaN   \n",
       "50%     2.991812e+13    NaN                        NaN   \n",
       "75%     9.371704e+13    NaN                        NaN   \n",
       "max     9.999320e+14    NaN                        NaN   \n",
       "\n",
       "                  appointment_day           age   neighbourhood   scholarship  \\\n",
       "count                       71958  71958.000000           71958  71958.000000   \n",
       "unique                         27           NaN              80           NaN   \n",
       "top     2016-06-06 00:00:00+00:00           NaN  JARDIM CAMBURI           NaN   \n",
       "freq                         3073           NaN            5213           NaN   \n",
       "first   2016-04-29 00:00:00+00:00           NaN             NaN           NaN   \n",
       "last    2016-06-08 00:00:00+00:00           NaN             NaN           NaN   \n",
       "mean                          NaN     38.501501             NaN      0.092707   \n",
       "std                           NaN     22.923807             NaN      0.290023   \n",
       "min                           NaN      0.000000             NaN      0.000000   \n",
       "25%                           NaN     19.000000             NaN      0.000000   \n",
       "50%                           NaN     39.000000             NaN      0.000000   \n",
       "75%                           NaN     57.000000             NaN      0.000000   \n",
       "max                           NaN    115.000000             NaN      1.000000   \n",
       "\n",
       "        hypertension      diabetes    alcoholism      handicap  sms_received  \\\n",
       "count   71958.000000  71958.000000  71958.000000  71958.000000  71958.000000   \n",
       "unique           NaN           NaN           NaN           NaN           NaN   \n",
       "top              NaN           NaN           NaN           NaN           NaN   \n",
       "freq             NaN           NaN           NaN           NaN           NaN   \n",
       "first            NaN           NaN           NaN           NaN           NaN   \n",
       "last             NaN           NaN           NaN           NaN           NaN   \n",
       "mean        0.208900      0.074724      0.025320      0.020012      0.493093   \n",
       "std         0.406525      0.262948      0.157097      0.154029      0.499956   \n",
       "min         0.000000      0.000000      0.000000      0.000000      0.000000   \n",
       "25%         0.000000      0.000000      0.000000      0.000000      0.000000   \n",
       "50%         0.000000      0.000000      0.000000      0.000000      0.000000   \n",
       "75%         0.000000      0.000000      0.000000      0.000000      1.000000   \n",
       "max         1.000000      1.000000      1.000000      4.000000      1.000000   \n",
       "\n",
       "       no_show              waiting_period  \n",
       "count    71958                       71958  \n",
       "unique       2                         NaN  \n",
       "top         No                         NaN  \n",
       "freq     51437                         NaN  \n",
       "first      NaN                         NaN  \n",
       "last       NaN                         NaN  \n",
       "mean       NaN  15 days 03:50:21.661469190  \n",
       "std        NaN  16 days 11:46:39.729234902  \n",
       "min        NaN             0 days 03:16:20  \n",
       "25%        NaN      3 days 15:14:52.500000  \n",
       "50%        NaN      8 days 16:25:38.500000  \n",
       "75%        NaN     21 days 15:01:07.750000  \n",
       "max        NaN           178 days 13:19:01  "
      ]
     },
     "execution_count": 21,
     "metadata": {},
     "output_type": "execute_result"
    }
   ],
   "source": [
    "df.describe(include='all')"
   ]
  },
  {
   "cell_type": "markdown",
   "id": "d9551daf",
   "metadata": {},
   "source": [
    "<a id='eda'></a>\n",
    "## Exploratory Data Analysis\n",
    "### Research Question 1 (Does the waiting period play a part in a patient showing up?)"
   ]
  },
  {
   "cell_type": "markdown",
   "id": "b02cc617",
   "metadata": {},
   "source": [
    "Let's first convert the waiting_period into integers so that we will be able to easily plot it"
   ]
  },
  {
   "cell_type": "code",
   "execution_count": 22,
   "id": "4607a9db",
   "metadata": {},
   "outputs": [
    {
     "data": {
      "text/plain": [
       "count    71958.000000\n",
       "mean        14.642194\n",
       "std         16.494381\n",
       "min          0.000000\n",
       "25%          3.000000\n",
       "50%          8.000000\n",
       "75%         21.000000\n",
       "max        178.000000\n",
       "Name: waiting_period, dtype: float64"
      ]
     },
     "execution_count": 22,
     "metadata": {},
     "output_type": "execute_result"
    }
   ],
   "source": [
    "df['waiting_period']=df['waiting_period'].dt.days\n",
    "df['waiting_period'].describe()"
   ]
  },
  {
   "cell_type": "code",
   "execution_count": 23,
   "id": "d3c116df",
   "metadata": {},
   "outputs": [
    {
     "data": {
      "image/png": "[encoded data removed]",
      "text/plain": [
       "<Figure size 640x480 with 1 Axes>"
      ]
     },
     "metadata": {},
     "output_type": "display_data"
    }
   ],
   "source": [
    "df['waiting_period'].plot(kind= 'box');\n",
    "#plt.xlabel('Number of patients')\n",
    "plt.ylabel('Number of days')\n",
    "plt.title('Distribution of waiting days')\n",
    "plt.show();"
   ]
  },
  {
   "cell_type": "markdown",
   "id": "346ebc15",
   "metadata": {},
   "source": [
    "We can see that from the above boxplot, most patients tend not to show up between day 0 and day 50. After which we have several who still don't show up after day 50 of waiting. This can be further illustrated by the right-skewed histogram below: "
   ]
  },
  {
   "cell_type": "code",
   "execution_count": 24,
   "id": "0c9dcbb0",
   "metadata": {},
   "outputs": [
    {
     "data": {
      "image/png": "[encoded data removed]",
      "text/plain": [
       "<Figure size 640x480 with 1 Axes>"
      ]
     },
     "metadata": {},
     "output_type": "display_data"
    }
   ],
   "source": [
    "df['waiting_period'].plot(kind= 'hist',bins = 100);\n",
    "plt.xlabel('Number of days')\n",
    "plt.ylabel('Number of patients')\n",
    "plt.title('Distribution of waiting days')\n",
    "plt.show();"
   ]
  },
  {
   "cell_type": "markdown",
   "id": "b86fcdb7",
   "metadata": {},
   "source": [
    "Let's convert the Yes or No values in the no_show column to 1 and 0 respsectively in order to be able to plot it later."
   ]
  },
  {
   "cell_type": "code",
   "execution_count": 25,
   "id": "5f81734e",
   "metadata": {},
   "outputs": [
    {
     "data": {
      "text/html": [
       "<div>\n",
       "<style scoped>\n",
       "    .dataframe tbody tr th:only-of-type {\n",
       "        vertical-align: middle;\n",
       "    }\n",
       "\n",
       "    .dataframe tbody tr th {\n",
       "        vertical-align: top;\n",
       "    }\n",
       "\n",
       "    .dataframe thead th {\n",
       "        text-align: right;\n",
       "    }\n",
       "</style>\n",
       "<table border=\"1\" class=\"dataframe\">\n",
       "  <thead>\n",
       "    <tr style=\"text-align: right;\">\n",
       "      <th></th>\n",
       "      <th>patientid</th>\n",
       "      <th>gender</th>\n",
       "      <th>scheduled_day</th>\n",
       "      <th>appointment_day</th>\n",
       "      <th>age</th>\n",
       "      <th>neighbourhood</th>\n",
       "      <th>scholarship</th>\n",
       "      <th>hypertension</th>\n",
       "      <th>diabetes</th>\n",
       "      <th>alcoholism</th>\n",
       "      <th>handicap</th>\n",
       "      <th>sms_received</th>\n",
       "      <th>no_show</th>\n",
       "      <th>waiting_period</th>\n",
       "    </tr>\n",
       "  </thead>\n",
       "  <tbody>\n",
       "    <tr>\n",
       "      <th>5</th>\n",
       "      <td>95985133231274</td>\n",
       "      <td>F</td>\n",
       "      <td>2016-04-27 08:36:51+00:00</td>\n",
       "      <td>2016-04-29 00:00:00+00:00</td>\n",
       "      <td>76</td>\n",
       "      <td>REPÚBLICA</td>\n",
       "      <td>0</td>\n",
       "      <td>1</td>\n",
       "      <td>0</td>\n",
       "      <td>0</td>\n",
       "      <td>0</td>\n",
       "      <td>0</td>\n",
       "      <td>0</td>\n",
       "      <td>1</td>\n",
       "    </tr>\n",
       "    <tr>\n",
       "      <th>6</th>\n",
       "      <td>733688164476661</td>\n",
       "      <td>F</td>\n",
       "      <td>2016-04-27 15:05:12+00:00</td>\n",
       "      <td>2016-04-29 00:00:00+00:00</td>\n",
       "      <td>23</td>\n",
       "      <td>GOIABEIRAS</td>\n",
       "      <td>0</td>\n",
       "      <td>0</td>\n",
       "      <td>0</td>\n",
       "      <td>0</td>\n",
       "      <td>0</td>\n",
       "      <td>0</td>\n",
       "      <td>1</td>\n",
       "      <td>1</td>\n",
       "    </tr>\n",
       "    <tr>\n",
       "      <th>7</th>\n",
       "      <td>3449833394123</td>\n",
       "      <td>F</td>\n",
       "      <td>2016-04-27 15:39:58+00:00</td>\n",
       "      <td>2016-04-29 00:00:00+00:00</td>\n",
       "      <td>39</td>\n",
       "      <td>GOIABEIRAS</td>\n",
       "      <td>0</td>\n",
       "      <td>0</td>\n",
       "      <td>0</td>\n",
       "      <td>0</td>\n",
       "      <td>0</td>\n",
       "      <td>0</td>\n",
       "      <td>1</td>\n",
       "      <td>1</td>\n",
       "    </tr>\n",
       "    <tr>\n",
       "      <th>9</th>\n",
       "      <td>78124564369297</td>\n",
       "      <td>F</td>\n",
       "      <td>2016-04-27 12:48:25+00:00</td>\n",
       "      <td>2016-04-29 00:00:00+00:00</td>\n",
       "      <td>19</td>\n",
       "      <td>CONQUISTA</td>\n",
       "      <td>0</td>\n",
       "      <td>0</td>\n",
       "      <td>0</td>\n",
       "      <td>0</td>\n",
       "      <td>0</td>\n",
       "      <td>0</td>\n",
       "      <td>0</td>\n",
       "      <td>1</td>\n",
       "    </tr>\n",
       "    <tr>\n",
       "      <th>10</th>\n",
       "      <td>734536231958495</td>\n",
       "      <td>F</td>\n",
       "      <td>2016-04-27 14:58:11+00:00</td>\n",
       "      <td>2016-04-29 00:00:00+00:00</td>\n",
       "      <td>30</td>\n",
       "      <td>NOVA PALESTINA</td>\n",
       "      <td>0</td>\n",
       "      <td>0</td>\n",
       "      <td>0</td>\n",
       "      <td>0</td>\n",
       "      <td>0</td>\n",
       "      <td>0</td>\n",
       "      <td>0</td>\n",
       "      <td>1</td>\n",
       "    </tr>\n",
       "  </tbody>\n",
       "</table>\n",
       "</div>"
      ],
      "text/plain": [
       "          patientid gender             scheduled_day  \\\n",
       "5    95985133231274      F 2016-04-27 08:36:51+00:00   \n",
       "6   733688164476661      F 2016-04-27 15:05:12+00:00   \n",
       "7     3449833394123      F 2016-04-27 15:39:58+00:00   \n",
       "9    78124564369297      F 2016-04-27 12:48:25+00:00   \n",
       "10  734536231958495      F 2016-04-27 14:58:11+00:00   \n",
       "\n",
       "             appointment_day  age   neighbourhood  scholarship  hypertension  \\\n",
       "5  2016-04-29 00:00:00+00:00   76       REPÚBLICA            0             1   \n",
       "6  2016-04-29 00:00:00+00:00   23      GOIABEIRAS            0             0   \n",
       "7  2016-04-29 00:00:00+00:00   39      GOIABEIRAS            0             0   \n",
       "9  2016-04-29 00:00:00+00:00   19       CONQUISTA            0             0   \n",
       "10 2016-04-29 00:00:00+00:00   30  NOVA PALESTINA            0             0   \n",
       "\n",
       "    diabetes  alcoholism  handicap  sms_received  no_show  waiting_period  \n",
       "5          0           0         0             0        0               1  \n",
       "6          0           0         0             0        1               1  \n",
       "7          0           0         0             0        1               1  \n",
       "9          0           0         0             0        0               1  \n",
       "10         0           0         0             0        0               1  "
      ]
     },
     "execution_count": 25,
     "metadata": {},
     "output_type": "execute_result"
    }
   ],
   "source": [
    "df['no_show'] = df['no_show'].map({'Yes': 1, 'No': 0})\n",
    "df.head()"
   ]
  },
  {
   "cell_type": "code",
   "execution_count": 26,
   "id": "f7968c28",
   "metadata": {},
   "outputs": [
    {
     "data": {
      "image/png": "[encoded data removed]",
      "text/plain": [
       "<Figure size 640x480 with 1 Axes>"
      ]
     },
     "metadata": {},
     "output_type": "display_data"
    }
   ],
   "source": [
    "df['no_show'].groupby(df['waiting_period']).mean().plot.line()\n",
    "plt.xlabel('Waiting days')\n",
    "plt.ylabel('Rate of absence')\n",
    "plt.title('Distribution of rate of abscence in relation to waiting days.')\n",
    "plt.show();"
   ]
  },
  {
   "cell_type": "markdown",
   "id": "20e6aab0",
   "metadata": {},
   "source": [
    "We can see from the above line graph that the rate of absentism increases from day 0 to day 50 of waiting, after which the behavior becomes a bit erratic, with a drop in the no show but it again peaks at around day 75. In general, we can conclude that the longer a patient waits, the more likely they may miss their appointments."
   ]
  },
  {
   "cell_type": "markdown",
   "id": "b345b8dc",
   "metadata": {},
   "source": [
    "### Research Question 2 (Does gender play a part on whether a patient shows up?)"
   ]
  },
  {
   "cell_type": "code",
   "execution_count": 27,
   "id": "d9e551e4",
   "metadata": {},
   "outputs": [
    {
     "data": {
      "text/plain": [
       "gender  no_show\n",
       "F       0          34396\n",
       "        1          13673\n",
       "M       0          17041\n",
       "        1           6848\n",
       "Name: no_show, dtype: int64"
      ]
     },
     "execution_count": 27,
     "metadata": {},
     "output_type": "execute_result"
    }
   ],
   "source": [
    "#First check the proportion of gender on how they showed up for appointment\n",
    "df['no_show'].groupby(df['gender']).value_counts()"
   ]
  },
  {
   "cell_type": "code",
   "execution_count": 28,
   "id": "d2a5aa12",
   "metadata": {},
   "outputs": [
    {
     "data": {
      "text/plain": [
       "(48069, 14)"
      ]
     },
     "execution_count": 28,
     "metadata": {},
     "output_type": "execute_result"
    }
   ],
   "source": [
    "# We'll first create masks for the female and male patients\n",
    "male = df[df['gender']=='M']\n",
    "female = df[df['gender']=='F']\n",
    "female.shape"
   ]
  },
  {
   "cell_type": "markdown",
   "id": "4b5cb3ee",
   "metadata": {},
   "source": [
    "We then create pie charts for both male and female patients showing proportions of show and no show in both."
   ]
  },
  {
   "cell_type": "markdown",
   "id": "ed560560",
   "metadata": {},
   "source": [
    "Function to help plot pie charts across the notebook:"
   ]
  },
  {
   "cell_type": "code",
   "execution_count": 29,
   "id": "8efa3691",
   "metadata": {},
   "outputs": [],
   "source": [
    "def plot_pie(df1, col1, col2, title, explode, autopct, labels):\n",
    "    df1.groupby(col1)[col2].value_counts().plot.pie(shadow=True, explode = explode, autopct=autopct, labels = labels)\n",
    "    plt.axis('equal')\n",
    "    plt.title(title)\n",
    "    plt.legend();"
   ]
  },
  {
   "cell_type": "code",
   "execution_count": 30,
   "id": "4bbdee7b",
   "metadata": {},
   "outputs": [
    {
     "data": {
      "image/png": "[encoded data removed]",
      "text/plain": [
       "<Figure size 640x480 with 1 Axes>"
      ]
     },
     "metadata": {},
     "output_type": "display_data"
    }
   ],
   "source": [
    "column1 = 'no_show'\n",
    "column2 = 'gender'\n",
    "explode = (0.1, 0.0)\n",
    "labels = ['show up','no show'] \n",
    "autopct='%1.1f%%'\n",
    "plot_pie(male, column1, column2, 'Male patients', explode, autopct, labels)"
   ]
  },
  {
   "cell_type": "code",
   "execution_count": 31,
   "id": "eacc6306",
   "metadata": {},
   "outputs": [
    {
     "data": {
      "image/png": "[encoded data removed]",
      "text/plain": [
       "<Figure size 640x480 with 1 Axes>"
      ]
     },
     "metadata": {},
     "output_type": "display_data"
    }
   ],
   "source": [
    "column1 = 'no_show'\n",
    "column2 = 'gender'\n",
    "explode = (0.1, 0.0)\n",
    "labels = ['show up','no show'] \n",
    "autopct='%1.1f%%'\n",
    "plot_pie(female, column1, column2, 'Female patients', explode, autopct, labels)"
   ]
  },
  {
   "cell_type": "markdown",
   "id": "19182c71",
   "metadata": {},
   "source": [
    "From the above pie charts, we can see that the gender of a patient doesn't seem to impact whether they are going to show up or not. The percentage of male and female patients that didn't show up is 70.6% and 71.1% respectively. These are almost identical percentages in both categories of gender and as such we can't conclusively say that gender plays a role in whether a patient shows up or not."
   ]
  },
  {
   "cell_type": "markdown",
   "id": "c4fc4ce3",
   "metadata": {},
   "source": [
    "### Research Question 3 (Does sending an SMS to patients increase the chances of them showing up?)"
   ]
  },
  {
   "cell_type": "markdown",
   "id": "c373962b",
   "metadata": {},
   "source": [
    "First I will create masks for patients that recieved smses and those who didn't"
   ]
  },
  {
   "cell_type": "code",
   "execution_count": 32,
   "id": "ba958793",
   "metadata": {},
   "outputs": [
    {
     "data": {
      "text/html": [
       "<div>\n",
       "<style scoped>\n",
       "    .dataframe tbody tr th:only-of-type {\n",
       "        vertical-align: middle;\n",
       "    }\n",
       "\n",
       "    .dataframe tbody tr th {\n",
       "        vertical-align: top;\n",
       "    }\n",
       "\n",
       "    .dataframe thead th {\n",
       "        text-align: right;\n",
       "    }\n",
       "</style>\n",
       "<table border=\"1\" class=\"dataframe\">\n",
       "  <thead>\n",
       "    <tr style=\"text-align: right;\">\n",
       "      <th></th>\n",
       "      <th>patientid</th>\n",
       "      <th>gender</th>\n",
       "      <th>scheduled_day</th>\n",
       "      <th>appointment_day</th>\n",
       "      <th>age</th>\n",
       "      <th>neighbourhood</th>\n",
       "      <th>scholarship</th>\n",
       "      <th>hypertension</th>\n",
       "      <th>diabetes</th>\n",
       "      <th>alcoholism</th>\n",
       "      <th>handicap</th>\n",
       "      <th>sms_received</th>\n",
       "      <th>no_show</th>\n",
       "      <th>waiting_period</th>\n",
       "    </tr>\n",
       "  </thead>\n",
       "  <tbody>\n",
       "    <tr>\n",
       "      <th>11</th>\n",
       "      <td>7542951368435</td>\n",
       "      <td>M</td>\n",
       "      <td>2016-04-26 08:44:12+00:00</td>\n",
       "      <td>2016-04-29 00:00:00+00:00</td>\n",
       "      <td>29</td>\n",
       "      <td>NOVA PALESTINA</td>\n",
       "      <td>0</td>\n",
       "      <td>0</td>\n",
       "      <td>0</td>\n",
       "      <td>0</td>\n",
       "      <td>0</td>\n",
       "      <td>1</td>\n",
       "      <td>1</td>\n",
       "      <td>2</td>\n",
       "    </tr>\n",
       "    <tr>\n",
       "      <th>15</th>\n",
       "      <td>99948393975</td>\n",
       "      <td>F</td>\n",
       "      <td>2016-04-26 08:47:27+00:00</td>\n",
       "      <td>2016-04-29 00:00:00+00:00</td>\n",
       "      <td>15</td>\n",
       "      <td>NOVA PALESTINA</td>\n",
       "      <td>0</td>\n",
       "      <td>0</td>\n",
       "      <td>0</td>\n",
       "      <td>0</td>\n",
       "      <td>0</td>\n",
       "      <td>1</td>\n",
       "      <td>0</td>\n",
       "      <td>2</td>\n",
       "    </tr>\n",
       "    <tr>\n",
       "      <th>18</th>\n",
       "      <td>17135378245248</td>\n",
       "      <td>F</td>\n",
       "      <td>2016-04-26 10:54:18+00:00</td>\n",
       "      <td>2016-04-29 00:00:00+00:00</td>\n",
       "      <td>30</td>\n",
       "      <td>NOVA PALESTINA</td>\n",
       "      <td>1</td>\n",
       "      <td>0</td>\n",
       "      <td>0</td>\n",
       "      <td>0</td>\n",
       "      <td>0</td>\n",
       "      <td>1</td>\n",
       "      <td>0</td>\n",
       "      <td>2</td>\n",
       "    </tr>\n",
       "    <tr>\n",
       "      <th>22</th>\n",
       "      <td>863229818887631</td>\n",
       "      <td>M</td>\n",
       "      <td>2016-04-25 13:29:16+00:00</td>\n",
       "      <td>2016-04-29 00:00:00+00:00</td>\n",
       "      <td>13</td>\n",
       "      <td>CONQUISTA</td>\n",
       "      <td>0</td>\n",
       "      <td>0</td>\n",
       "      <td>0</td>\n",
       "      <td>0</td>\n",
       "      <td>0</td>\n",
       "      <td>1</td>\n",
       "      <td>1</td>\n",
       "      <td>3</td>\n",
       "    </tr>\n",
       "    <tr>\n",
       "      <th>25</th>\n",
       "      <td>5819369978796</td>\n",
       "      <td>M</td>\n",
       "      <td>2016-04-26 15:04:17+00:00</td>\n",
       "      <td>2016-04-29 00:00:00+00:00</td>\n",
       "      <td>46</td>\n",
       "      <td>CONQUISTA</td>\n",
       "      <td>0</td>\n",
       "      <td>1</td>\n",
       "      <td>0</td>\n",
       "      <td>0</td>\n",
       "      <td>0</td>\n",
       "      <td>1</td>\n",
       "      <td>0</td>\n",
       "      <td>2</td>\n",
       "    </tr>\n",
       "  </tbody>\n",
       "</table>\n",
       "</div>"
      ],
      "text/plain": [
       "          patientid gender             scheduled_day  \\\n",
       "11    7542951368435      M 2016-04-26 08:44:12+00:00   \n",
       "15      99948393975      F 2016-04-26 08:47:27+00:00   \n",
       "18   17135378245248      F 2016-04-26 10:54:18+00:00   \n",
       "22  863229818887631      M 2016-04-25 13:29:16+00:00   \n",
       "25    5819369978796      M 2016-04-26 15:04:17+00:00   \n",
       "\n",
       "             appointment_day  age   neighbourhood  scholarship  hypertension  \\\n",
       "11 2016-04-29 00:00:00+00:00   29  NOVA PALESTINA            0             0   \n",
       "15 2016-04-29 00:00:00+00:00   15  NOVA PALESTINA            0             0   \n",
       "18 2016-04-29 00:00:00+00:00   30  NOVA PALESTINA            1             0   \n",
       "22 2016-04-29 00:00:00+00:00   13       CONQUISTA            0             0   \n",
       "25 2016-04-29 00:00:00+00:00   46       CONQUISTA            0             1   \n",
       "\n",
       "    diabetes  alcoholism  handicap  sms_received  no_show  waiting_period  \n",
       "11         0           0         0             1        1               2  \n",
       "15         0           0         0             1        0               2  \n",
       "18         0           0         0             1        0               2  \n",
       "22         0           0         0             1        1               3  \n",
       "25         0           0         0             1        0               2  "
      ]
     },
     "execution_count": 32,
     "metadata": {},
     "output_type": "execute_result"
    }
   ],
   "source": [
    "sms_yes=df.query('sms_received == 1')\n",
    "sms_no=df.query('sms_received == 0')\n",
    "sms_yes.head()"
   ]
  },
  {
   "cell_type": "markdown",
   "id": "956bc77c",
   "metadata": {},
   "source": [
    "We then created pie charts showing the proportions of show vs no_show in both sets where sms was recieved and not"
   ]
  },
  {
   "cell_type": "code",
   "execution_count": 33,
   "id": "c2688478",
   "metadata": {},
   "outputs": [
    {
     "data": {
      "image/png": "[encoded data removed]",
      "text/plain": [
       "<Figure size 640x480 with 1 Axes>"
      ]
     },
     "metadata": {},
     "output_type": "display_data"
    }
   ],
   "source": [
    "column1 = 'no_show'\n",
    "column2 = 'sms_received'\n",
    "explode = (0.1, 0.0)\n",
    "labels = ['show up','no show'] \n",
    "autopct='%1.1f%%'\n",
    "plot_pie(sms_yes, column1, column2, \"Proportion of show and no_show in patients who received SMS\", explode, autopct, labels)"
   ]
  },
  {
   "cell_type": "code",
   "execution_count": 34,
   "id": "7351489a",
   "metadata": {},
   "outputs": [
    {
     "data": {
      "image/png": "[encoded data removed]",
      "text/plain": [
       "<Figure size 640x480 with 1 Axes>"
      ]
     },
     "metadata": {},
     "output_type": "display_data"
    }
   ],
   "source": [
    "column1 = 'no_show'\n",
    "column2 = 'sms_received'\n",
    "explode = (0.1, 0.0)\n",
    "labels = ['show up','no show'] \n",
    "autopct='%1.1f%%'\n",
    "plot_pie(sms_no, column1, column2, \"Proportion of show and no_show in patients who didn't received SMS\", explode, autopct, labels)"
   ]
  },
  {
   "cell_type": "code",
   "execution_count": null,
   "id": "a22b9f99",
   "metadata": {},
   "outputs": [],
   "source": []
  },
  {
   "cell_type": "markdown",
   "id": "a0978e72",
   "metadata": {},
   "source": [
    "From the above pie charts we can't exhaustively deduce that receiving an SMS plays a huge role on whether a patient shows up or not. This is because the proportions of show and no_show are almost the same in both sets and as such this may not be a good feature to use in predicting this behavior."
   ]
  },
  {
   "cell_type": "markdown",
   "id": "1da2e15d",
   "metadata": {},
   "source": [
    "### Research Question 4 (Does having a scholarship affect whether a patient shows up?)"
   ]
  },
  {
   "cell_type": "markdown",
   "id": "b5434714",
   "metadata": {},
   "source": [
    "We again will create masks for patient with scholarships and those without"
   ]
  },
  {
   "cell_type": "code",
   "execution_count": 35,
   "id": "562d779e",
   "metadata": {},
   "outputs": [
    {
     "data": {
      "text/html": [
       "<div>\n",
       "<style scoped>\n",
       "    .dataframe tbody tr th:only-of-type {\n",
       "        vertical-align: middle;\n",
       "    }\n",
       "\n",
       "    .dataframe tbody tr th {\n",
       "        vertical-align: top;\n",
       "    }\n",
       "\n",
       "    .dataframe thead th {\n",
       "        text-align: right;\n",
       "    }\n",
       "</style>\n",
       "<table border=\"1\" class=\"dataframe\">\n",
       "  <thead>\n",
       "    <tr style=\"text-align: right;\">\n",
       "      <th></th>\n",
       "      <th>patientid</th>\n",
       "      <th>gender</th>\n",
       "      <th>scheduled_day</th>\n",
       "      <th>appointment_day</th>\n",
       "      <th>age</th>\n",
       "      <th>neighbourhood</th>\n",
       "      <th>scholarship</th>\n",
       "      <th>hypertension</th>\n",
       "      <th>diabetes</th>\n",
       "      <th>alcoholism</th>\n",
       "      <th>handicap</th>\n",
       "      <th>sms_received</th>\n",
       "      <th>no_show</th>\n",
       "      <th>waiting_period</th>\n",
       "    </tr>\n",
       "  </thead>\n",
       "  <tbody>\n",
       "    <tr>\n",
       "      <th>5</th>\n",
       "      <td>95985133231274</td>\n",
       "      <td>F</td>\n",
       "      <td>2016-04-27 08:36:51+00:00</td>\n",
       "      <td>2016-04-29 00:00:00+00:00</td>\n",
       "      <td>76</td>\n",
       "      <td>REPÚBLICA</td>\n",
       "      <td>0</td>\n",
       "      <td>1</td>\n",
       "      <td>0</td>\n",
       "      <td>0</td>\n",
       "      <td>0</td>\n",
       "      <td>0</td>\n",
       "      <td>0</td>\n",
       "      <td>1</td>\n",
       "    </tr>\n",
       "    <tr>\n",
       "      <th>6</th>\n",
       "      <td>733688164476661</td>\n",
       "      <td>F</td>\n",
       "      <td>2016-04-27 15:05:12+00:00</td>\n",
       "      <td>2016-04-29 00:00:00+00:00</td>\n",
       "      <td>23</td>\n",
       "      <td>GOIABEIRAS</td>\n",
       "      <td>0</td>\n",
       "      <td>0</td>\n",
       "      <td>0</td>\n",
       "      <td>0</td>\n",
       "      <td>0</td>\n",
       "      <td>0</td>\n",
       "      <td>1</td>\n",
       "      <td>1</td>\n",
       "    </tr>\n",
       "    <tr>\n",
       "      <th>7</th>\n",
       "      <td>3449833394123</td>\n",
       "      <td>F</td>\n",
       "      <td>2016-04-27 15:39:58+00:00</td>\n",
       "      <td>2016-04-29 00:00:00+00:00</td>\n",
       "      <td>39</td>\n",
       "      <td>GOIABEIRAS</td>\n",
       "      <td>0</td>\n",
       "      <td>0</td>\n",
       "      <td>0</td>\n",
       "      <td>0</td>\n",
       "      <td>0</td>\n",
       "      <td>0</td>\n",
       "      <td>1</td>\n",
       "      <td>1</td>\n",
       "    </tr>\n",
       "    <tr>\n",
       "      <th>9</th>\n",
       "      <td>78124564369297</td>\n",
       "      <td>F</td>\n",
       "      <td>2016-04-27 12:48:25+00:00</td>\n",
       "      <td>2016-04-29 00:00:00+00:00</td>\n",
       "      <td>19</td>\n",
       "      <td>CONQUISTA</td>\n",
       "      <td>0</td>\n",
       "      <td>0</td>\n",
       "      <td>0</td>\n",
       "      <td>0</td>\n",
       "      <td>0</td>\n",
       "      <td>0</td>\n",
       "      <td>0</td>\n",
       "      <td>1</td>\n",
       "    </tr>\n",
       "    <tr>\n",
       "      <th>10</th>\n",
       "      <td>734536231958495</td>\n",
       "      <td>F</td>\n",
       "      <td>2016-04-27 14:58:11+00:00</td>\n",
       "      <td>2016-04-29 00:00:00+00:00</td>\n",
       "      <td>30</td>\n",
       "      <td>NOVA PALESTINA</td>\n",
       "      <td>0</td>\n",
       "      <td>0</td>\n",
       "      <td>0</td>\n",
       "      <td>0</td>\n",
       "      <td>0</td>\n",
       "      <td>0</td>\n",
       "      <td>0</td>\n",
       "      <td>1</td>\n",
       "    </tr>\n",
       "  </tbody>\n",
       "</table>\n",
       "</div>"
      ],
      "text/plain": [
       "          patientid gender             scheduled_day  \\\n",
       "5    95985133231274      F 2016-04-27 08:36:51+00:00   \n",
       "6   733688164476661      F 2016-04-27 15:05:12+00:00   \n",
       "7     3449833394123      F 2016-04-27 15:39:58+00:00   \n",
       "9    78124564369297      F 2016-04-27 12:48:25+00:00   \n",
       "10  734536231958495      F 2016-04-27 14:58:11+00:00   \n",
       "\n",
       "             appointment_day  age   neighbourhood  scholarship  hypertension  \\\n",
       "5  2016-04-29 00:00:00+00:00   76       REPÚBLICA            0             1   \n",
       "6  2016-04-29 00:00:00+00:00   23      GOIABEIRAS            0             0   \n",
       "7  2016-04-29 00:00:00+00:00   39      GOIABEIRAS            0             0   \n",
       "9  2016-04-29 00:00:00+00:00   19       CONQUISTA            0             0   \n",
       "10 2016-04-29 00:00:00+00:00   30  NOVA PALESTINA            0             0   \n",
       "\n",
       "    diabetes  alcoholism  handicap  sms_received  no_show  waiting_period  \n",
       "5          0           0         0             0        0               1  \n",
       "6          0           0         0             0        1               1  \n",
       "7          0           0         0             0        1               1  \n",
       "9          0           0         0             0        0               1  \n",
       "10         0           0         0             0        0               1  "
      ]
     },
     "execution_count": 35,
     "metadata": {},
     "output_type": "execute_result"
    }
   ],
   "source": [
    "df.head()"
   ]
  },
  {
   "cell_type": "code",
   "execution_count": 36,
   "id": "49e2a56e",
   "metadata": {},
   "outputs": [
    {
     "data": {
      "text/html": [
       "<div>\n",
       "<style scoped>\n",
       "    .dataframe tbody tr th:only-of-type {\n",
       "        vertical-align: middle;\n",
       "    }\n",
       "\n",
       "    .dataframe tbody tr th {\n",
       "        vertical-align: top;\n",
       "    }\n",
       "\n",
       "    .dataframe thead th {\n",
       "        text-align: right;\n",
       "    }\n",
       "</style>\n",
       "<table border=\"1\" class=\"dataframe\">\n",
       "  <thead>\n",
       "    <tr style=\"text-align: right;\">\n",
       "      <th></th>\n",
       "      <th>patientid</th>\n",
       "      <th>gender</th>\n",
       "      <th>scheduled_day</th>\n",
       "      <th>appointment_day</th>\n",
       "      <th>age</th>\n",
       "      <th>neighbourhood</th>\n",
       "      <th>scholarship</th>\n",
       "      <th>hypertension</th>\n",
       "      <th>diabetes</th>\n",
       "      <th>alcoholism</th>\n",
       "      <th>handicap</th>\n",
       "      <th>sms_received</th>\n",
       "      <th>no_show</th>\n",
       "      <th>waiting_period</th>\n",
       "    </tr>\n",
       "  </thead>\n",
       "  <tbody>\n",
       "    <tr>\n",
       "      <th>5</th>\n",
       "      <td>95985133231274</td>\n",
       "      <td>F</td>\n",
       "      <td>2016-04-27 08:36:51+00:00</td>\n",
       "      <td>2016-04-29 00:00:00+00:00</td>\n",
       "      <td>76</td>\n",
       "      <td>REPÚBLICA</td>\n",
       "      <td>0</td>\n",
       "      <td>1</td>\n",
       "      <td>0</td>\n",
       "      <td>0</td>\n",
       "      <td>0</td>\n",
       "      <td>0</td>\n",
       "      <td>0</td>\n",
       "      <td>1</td>\n",
       "    </tr>\n",
       "    <tr>\n",
       "      <th>6</th>\n",
       "      <td>733688164476661</td>\n",
       "      <td>F</td>\n",
       "      <td>2016-04-27 15:05:12+00:00</td>\n",
       "      <td>2016-04-29 00:00:00+00:00</td>\n",
       "      <td>23</td>\n",
       "      <td>GOIABEIRAS</td>\n",
       "      <td>0</td>\n",
       "      <td>0</td>\n",
       "      <td>0</td>\n",
       "      <td>0</td>\n",
       "      <td>0</td>\n",
       "      <td>0</td>\n",
       "      <td>1</td>\n",
       "      <td>1</td>\n",
       "    </tr>\n",
       "    <tr>\n",
       "      <th>7</th>\n",
       "      <td>3449833394123</td>\n",
       "      <td>F</td>\n",
       "      <td>2016-04-27 15:39:58+00:00</td>\n",
       "      <td>2016-04-29 00:00:00+00:00</td>\n",
       "      <td>39</td>\n",
       "      <td>GOIABEIRAS</td>\n",
       "      <td>0</td>\n",
       "      <td>0</td>\n",
       "      <td>0</td>\n",
       "      <td>0</td>\n",
       "      <td>0</td>\n",
       "      <td>0</td>\n",
       "      <td>1</td>\n",
       "      <td>1</td>\n",
       "    </tr>\n",
       "    <tr>\n",
       "      <th>9</th>\n",
       "      <td>78124564369297</td>\n",
       "      <td>F</td>\n",
       "      <td>2016-04-27 12:48:25+00:00</td>\n",
       "      <td>2016-04-29 00:00:00+00:00</td>\n",
       "      <td>19</td>\n",
       "      <td>CONQUISTA</td>\n",
       "      <td>0</td>\n",
       "      <td>0</td>\n",
       "      <td>0</td>\n",
       "      <td>0</td>\n",
       "      <td>0</td>\n",
       "      <td>0</td>\n",
       "      <td>0</td>\n",
       "      <td>1</td>\n",
       "    </tr>\n",
       "    <tr>\n",
       "      <th>10</th>\n",
       "      <td>734536231958495</td>\n",
       "      <td>F</td>\n",
       "      <td>2016-04-27 14:58:11+00:00</td>\n",
       "      <td>2016-04-29 00:00:00+00:00</td>\n",
       "      <td>30</td>\n",
       "      <td>NOVA PALESTINA</td>\n",
       "      <td>0</td>\n",
       "      <td>0</td>\n",
       "      <td>0</td>\n",
       "      <td>0</td>\n",
       "      <td>0</td>\n",
       "      <td>0</td>\n",
       "      <td>0</td>\n",
       "      <td>1</td>\n",
       "    </tr>\n",
       "  </tbody>\n",
       "</table>\n",
       "</div>"
      ],
      "text/plain": [
       "          patientid gender             scheduled_day  \\\n",
       "5    95985133231274      F 2016-04-27 08:36:51+00:00   \n",
       "6   733688164476661      F 2016-04-27 15:05:12+00:00   \n",
       "7     3449833394123      F 2016-04-27 15:39:58+00:00   \n",
       "9    78124564369297      F 2016-04-27 12:48:25+00:00   \n",
       "10  734536231958495      F 2016-04-27 14:58:11+00:00   \n",
       "\n",
       "             appointment_day  age   neighbourhood  scholarship  hypertension  \\\n",
       "5  2016-04-29 00:00:00+00:00   76       REPÚBLICA            0             1   \n",
       "6  2016-04-29 00:00:00+00:00   23      GOIABEIRAS            0             0   \n",
       "7  2016-04-29 00:00:00+00:00   39      GOIABEIRAS            0             0   \n",
       "9  2016-04-29 00:00:00+00:00   19       CONQUISTA            0             0   \n",
       "10 2016-04-29 00:00:00+00:00   30  NOVA PALESTINA            0             0   \n",
       "\n",
       "    diabetes  alcoholism  handicap  sms_received  no_show  waiting_period  \n",
       "5          0           0         0             0        0               1  \n",
       "6          0           0         0             0        1               1  \n",
       "7          0           0         0             0        1               1  \n",
       "9          0           0         0             0        0               1  \n",
       "10         0           0         0             0        0               1  "
      ]
     },
     "execution_count": 36,
     "metadata": {},
     "output_type": "execute_result"
    }
   ],
   "source": [
    "no_scholarship = df.query('scholarship == 0')\n",
    "with_scholarship = df.query('scholarship == 1')\n",
    "no_scholarship.head()"
   ]
  },
  {
   "cell_type": "code",
   "execution_count": 37,
   "id": "63808a35",
   "metadata": {},
   "outputs": [
    {
     "data": {
      "text/plain": [
       "scholarship  no_show\n",
       "0            0          47099\n",
       "             1          18188\n",
       "Name: no_show, dtype: int64"
      ]
     },
     "execution_count": 37,
     "metadata": {},
     "output_type": "execute_result"
    }
   ],
   "source": [
    "no_scholarship.groupby(['scholarship'])['no_show'].value_counts()"
   ]
  },
  {
   "cell_type": "code",
   "execution_count": 38,
   "id": "ad7ab2dc",
   "metadata": {},
   "outputs": [
    {
     "data": {
      "text/plain": [
       "scholarship  no_show\n",
       "1            0          4338\n",
       "             1          2333\n",
       "Name: no_show, dtype: int64"
      ]
     },
     "execution_count": 38,
     "metadata": {},
     "output_type": "execute_result"
    }
   ],
   "source": [
    "with_scholarship.groupby(['scholarship'])['no_show'].value_counts()"
   ]
  },
  {
   "cell_type": "code",
   "execution_count": 39,
   "id": "dcfb1ee9",
   "metadata": {},
   "outputs": [
    {
     "data": {
      "image/png": "[encoded data removed]",
      "text/plain": [
       "<Figure size 640x480 with 1 Axes>"
      ]
     },
     "metadata": {},
     "output_type": "display_data"
    }
   ],
   "source": [
    "column1 = 'no_show'\n",
    "column2 = 'scholarship'\n",
    "explode = (0.1, 0.0)\n",
    "labels = ['show up','no show'] \n",
    "autopct='%1.1f%%'\n",
    "plot_pie(no_scholarship, column1, column2, 'Proportion of show and no_show in patients without scholarship', explode, autopct, labels)"
   ]
  },
  {
   "cell_type": "code",
   "execution_count": 40,
   "id": "6abf8cbf",
   "metadata": {},
   "outputs": [
    {
     "data": {
      "image/png": "[encoded data removed]",
      "text/plain": [
       "<Figure size 640x480 with 1 Axes>"
      ]
     },
     "metadata": {},
     "output_type": "display_data"
    }
   ],
   "source": [
    "column1 = 'no_show'\n",
    "column2 = 'scholarship'\n",
    "explode = (0.1, 0.0)\n",
    "labels = ['show up','no show'] \n",
    "autopct='%1.1f%%'\n",
    "plot_pie(with_scholarship, column1, column2, 'Proportion of show and no_show in patients with scholarship', explode, autopct, labels)"
   ]
  },
  {
   "cell_type": "markdown",
   "id": "788988cf",
   "metadata": {},
   "source": [
    "From the above pie charts we can see that the proportion of patients who didn't show up is slightly higher by 7.2% in the group with scholarships as compared to the group without. We might thus consider this in our analysis but this margin is still not big enough to warrant us to use this feature with confidence in our analysis."
   ]
  },
  {
   "cell_type": "markdown",
   "id": "6a081867",
   "metadata": {},
   "source": [
    "<a id='conclusions'></a>\n",
    "## Conclusions"
   ]
  },
  {
   "cell_type": "markdown",
   "id": "c77947a4",
   "metadata": {},
   "source": [
    "From my analyses of the various features/variables with respect to whether a patient shows up or not, below are the deductions I made:\n",
    "1. We can conclude that the longer a patient waits, the more likely they may miss their appointments.\n",
    "2. A patient's gender and whether they received an SMS or not are not enough to help us justify their impact on whether a patient shows up or not.\n",
    "3. Although it's evident, though by a slight margin, that patients without scholarships tend to show up more than those with, this said margin may not be enough to conclusive deduce that this plays a major role in a patient's turn up.\n",
    "\n",
    "I however found out the below limitations from the dataset used:\n",
    "* Most of the data turned out to have negative number of waiting days which isn't feasible and may mean there was a lot of erroneous data entry\n",
    "* The distance to and/or from the hospital isn't available. This might have been a better feature to have to use in our analysis as opposed to the Neighborhood.\n",
    "* The data covered a short period of time (approximately 7 months)"
   ]
  },
  {
   "cell_type": "markdown",
   "id": "c222062a",
   "metadata": {},
   "source": [
    "# References\n",
    "\n",
    "Below are the links I used for reference during my analysis of this dataset:\n",
    "* https://www.sfu.ca/~mjbrydon/tutorials/BAinPy/08_correlation.html\n",
    "* https://datatofish.com/string-to-integer-dataframe/\n",
    "* https://pandas.pydata.org/docs/reference/api/pandas.DataFrame.describe.html\n",
    "* https://www.learningaboutelectronics.com/Articles/How-to-create-a-pie-chart-in-matplotlib-with-Python.php#:~:text=To%20add%20percentages%20to%20each,percentage%20to%20the%20tenth%20place.&text=This%20gets%20rid%20of%20the%20tilt%20from%20the%20pie%20chart."
   ]
  }
 ],
 "metadata": {
  "kernelspec": {
   "display_name": "Python 3 (ipykernel)",
   "language": "python",
   "name": "python3"
  },
  "language_info": {
   "codemirror_mode": {
    "name": "ipython",
    "version": 3
   },
   "file_extension": ".py",
   "mimetype": "text/x-python",
   "name": "python",
   "nbconvert_exporter": "python",
   "pygments_lexer": "ipython3",
   "version": "3.9.15"
  }
 },
 "nbformat": 4,
 "nbformat_minor": 5
}
